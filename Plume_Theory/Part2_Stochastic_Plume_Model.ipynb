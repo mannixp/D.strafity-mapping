{
  "cells": [
    {
      "cell_type": "markdown",
      "metadata": {
        "colab_type": "text",
        "id": "view-in-github"
      },
      "source": [
        "<a href=\"https://colab.research.google.com/github/mannixp/Plumes/blob/main/Stochastic_Plume_Model.ipynb\" target=\"_parent\"><img src=\"https://colab.research.google.com/assets/colab-badge.svg\" alt=\"Open In Colab\"/></a>"
      ]
    },
    {
      "attachments": {},
      "cell_type": "markdown",
      "metadata": {
        "id": "1sJAs2EHLKZV"
      },
      "source": [
        "**Part 2**\n",
        "\n",
        "In this notebook we discuss how to use a refined 2 equation plume theory model to *robustly* predict the layered stratification arising from a set of point sources and sinks. We then further refine this model by specifying the boundary conditions as distributions rather than constants, so as to better characterise their random nature. \n",
        "\n",
        "We load the neccessary libraries, specifiy the domain $z \\in [0,1]$ and the differentiation matrices $D = d/dz$ and $L = d^2/dz^2$."
      ]
    },
    {
      "cell_type": "code",
      "execution_count": 1,
      "metadata": {
        "id": "rZ_fWmFlq8Tu"
      },
      "outputs": [],
      "source": [
        "from scipy.integrate   import solve_ivp\n",
        "from scipy.ndimage     import gaussian_filter\n",
        "from scipy.interpolate import interp1d\n",
        "import numpy as np\n",
        "import matplotlib.pyplot as plt\n",
        "import numba as nb\n",
        "\n",
        "ε    = 1e-12\n",
        "π    = np.pi\n",
        "Npts = 64\n",
        "\n",
        "z = np.linspace(0+ε,1-ε,Npts)\n",
        "\n",
        "I = np.eye(Npts) # I\n",
        "D = np.zeros((Npts,Npts)) # D = d/dz\n",
        "L = np.zeros((Npts,Npts)) # L = d2/dz2\n",
        "for i,z_i in enumerate(z):\n",
        "\n",
        "    if i == 0:\n",
        "      #D\n",
        "      D[i,i+1] =  1\n",
        "\n",
        "      #L\n",
        "      L[i,i  ] = -2\n",
        "      L[i,i+1] =  2 # if db/dz = 0\n",
        "    elif i == Npts-1:\n",
        "      #D\n",
        "      D[i,i-1] = -1\n",
        "\n",
        "      # L\n",
        "      L[i,i-1] =  2 # if db/dz = 0\n",
        "      L[i,i  ] = -2\n",
        "    else:\n",
        "      # D\n",
        "      D[i,i-1] = -1\n",
        "      D[i,i+1] =  1\n",
        "\n",
        "      # L\n",
        "      L[i,i-1] =  1\n",
        "      L[i,i  ] = -2\n",
        "      L[i,i+1] =  1\n",
        "\n",
        "dz = z[1] - z[0]\n",
        "L /= dz**2\n",
        "D /= 2*dz"
      ]
    },
    {
      "attachments": {},
      "cell_type": "markdown",
      "metadata": {
        "id": "qtks0ti0fMvo"
      },
      "source": [
        "Combining the plume equations, we eliminate $M$ the momentum flux to obtain a two equation model\n",
        "\\begin{align*}\n",
        "\\frac{dF}{dz} &= -\\frac{d b}{d z} Q, \\\\\n",
        "\\frac{dQ}{dz} &= \\frac{Q}{z} + \\frac{3^4}{2^6} \\frac{\\delta^4 \\pi^2 z^4}{Q^2} F, \\\\\n",
        "\\end{align*}\n",
        "where $F(z)$ and $Q(z)$ are the horizontally averaged (steady) buoyancy flux and volume flux respectively. The two free parameters are the Buoyancy frequency $N^2(z) = \\frac{d b}{d z}$ which characterises the background vertical stratification and the dimensionless turbulence production coefficient $\\delta < 0$. These equations are implemented below."
      ]
    },
    {
      "cell_type": "code",
      "execution_count": 2,
      "metadata": {
        "id": "129Ncd7kMh6i"
      },
      "outputs": [],
      "source": [
        "@nb.njit()\n",
        "def plume_eqns(z,X,z_i,dbdz_i,plume_type,δ=-0.25):\n",
        "  \"\"\"Solves the plume equations where F,Q  = X\"\"\"\n",
        "  dX    = 0*X\n",
        "  if plume_type == \"Rise\":\n",
        "    dX[0] = -np.interp(z,z_i,dbdz_i)*X[1];\n",
        "  elif plume_type == \"Sink\":\n",
        "    dX[0] = -np.interp(1-z,z_i,dbdz_i)*X[1];\n",
        "\n",
        "  dX[1] = X[1]/z + ((3**4)/(2**6))*( ((z**4)*(δ**4)*(π**2))/(X[1]**2) )*X[0]\n",
        "  return dX;"
      ]
    },
    {
      "attachments": {},
      "cell_type": "markdown",
      "metadata": {
        "id": "WDDRTLCxKawr"
      },
      "source": [
        "To solve these equations we first set up an ode solver using scipy, which for a rising plume takes either a deterministic initial condition\n",
        "\\begin{align*}\n",
        "Q(z=0) &= Q_0, \\\\\n",
        "F(z=0) &= F_0\n",
        "\\end{align*}\n",
        "as previous or a distribution\n",
        "\\begin{align*}\n",
        "Q(z=0) &= Q_0, \\\\\n",
        "F(z=0) &= P_{F|Q}(f|q=Q_0,z=0) = \\mathcal{N}(\\mu=F_0,\\sigma^2=0.1\\mu)\n",
        "\\end{align*}\n",
        "where the buoyancy flux is drawn from a normal distribution centered around $F_0$ with a variance that is 10% of the mean. \n",
        "\n",
        "As per the prevoius notebook the equations are then solved from $z=0 \\to 1$ until $F=0$ at which point the integration is terminated. This corresponds to the plume attaining its neutrally buoyant height. For a descending plume we specifiy the above conditions at $z=1$ and integrate from $z=1 \\to 0$ until $F=0$. When $F(z=0,1)$ is given by a distribution, we make use of a Monte-Carlo approach in order to obtain the average solution. This consists of running whereby a large ensemble of initial conditions and then averaging over the ensemble of their solutions.\n",
        "\n",
        "Below we define routines which handle both deterministic and random initial conditions."
      ]
    },
    {
      "cell_type": "code",
      "execution_count": 3,
      "metadata": {
        "id": "19QylJfXYGuw"
      },
      "outputs": [],
      "source": [
        "def Plot_F_and_Q(f,q,label_f='$F(z)$',label_q='$Q(z)$'):\n",
        "\n",
        "  fig, (ax1, ax2) = plt.subplots(1, 2)\n",
        "\n",
        "  ax1.plot(z[1:-1], f[1:-1], 'b')\n",
        "  ax1.set_xlabel(r'$z$')\n",
        "  ax1.set_ylabel(label_f)\n",
        "  plt.grid()\n",
        "\n",
        "  ax2.plot(z[1:-1], q[1:-1], 'r')\n",
        "  ax2.set_xlabel(r'$z$')\n",
        "  ax2.set_ylabel(label_q)\n",
        "  plt.grid()\n",
        "\n",
        "  plt.tight_layout()\n",
        "  plt.show()\n",
        "\n",
        "  return None;\n",
        "\n",
        "def N(μ=0,σ=.1,samples = 10**2):\n",
        "\n",
        "  \"\"\"\n",
        "  Generate N_samples from a Normal distribution\n",
        "\n",
        "  N(μ,σ2)\n",
        "\n",
        "  of mean μ and standard deviation σ.\n",
        "\n",
        "  \"\"\"\n",
        "\n",
        "  return np.random.default_rng().normal(loc=μ,scale=σ,size=samples)\n",
        "\n",
        "def Plume_Solve(F0,dbdz):\n",
        "\n",
        "    def event(t,y,*args): return y[0];\n",
        "    event.terminal = True;\n",
        "    event.positive = 0\n",
        "\n",
        "    if F0 < 0:\n",
        "      plume_type = \"Sink\"\n",
        "    elif F0 >0:\n",
        "      plume_type = \"Rise\"\n",
        "\n",
        "    # Solver\n",
        "    sol  = solve_ivp(fun=plume_eqns,t_span=[z[0],z[-1]], y0=[abs(F0),ε], t_eval=z,args=(z,dbdz,plume_type),events=event)\n",
        "\n",
        "    F = 0.*z;\n",
        "    Q = 0.*z;\n",
        "    if F0 > 0.:\n",
        "      F[0:len(sol.y[0])] = sol.y[0]\n",
        "      Q[0:len(sol.y[1])] = sol.y[1]\n",
        "    elif F0 < 0.:\n",
        "      F[Npts-len(sol.y[0]):] =     sol.y[0][::-1]\n",
        "      Q[Npts-len(sol.y[1]):] = -1.*sol.y[1][::-1]\n",
        "\n",
        "    return F,Q\n",
        "\n",
        "def Plume_Solve_Monte_Carlo(F0,Nsq,samples = 10**2):\n",
        "\n",
        "  # Get the samples\n",
        "  std_dev = (abs(F0)/10.) # 10% of the mean\n",
        "  μ       = F0\n",
        "  F_0     = N(μ=μ,σ=std_dev,samples=samples)\n",
        "\n",
        "  # print('Checking distribution mu,std_dev=',abs(μ - np.mean(F_0)),abs(std_dev - np.std(F_0) ))\n",
        "  # plt.hist(F_0, bins=30, density=True)\n",
        "  # plt.show()\n",
        "\n",
        "  # Containers for the solution\n",
        "  Q = 0*z\n",
        "  F = 0*z\n",
        "\n",
        "  for f_0 in F_0:\n",
        "    Fi,Qi  = Plume_Solve(f_0,Nsq)\n",
        "    F+=Fi; Q+=Qi\n",
        "\n",
        "  F /=samples\n",
        "  Q /=samples\n",
        "\n",
        "  return F,Q\n",
        "\n",
        "def Plume_Solve_Fokker_Planck(F0,Nsq,samples = 10**2):\n",
        "\n",
        "  raise NotImplementedError"
      ]
    },
    {
      "attachments": {},
      "cell_type": "markdown",
      "metadata": {
        "id": "NRqDDZogAGjn"
      },
      "source": [
        "With these different routines defined we then generate rising and descending plumes using the different techniques develop, namely: \n",
        "\n",
        "(1) A deterministic approach with a fixed initial condition $F_i$"
      ]
    },
    {
      "cell_type": "code",
      "execution_count": null,
      "metadata": {
        "id": "mAMPSN9Gi33Y"
      },
      "outputs": [],
      "source": [
        "# Initial conditions\n",
        "Nsq    = 1*(z/z)\n",
        "Plumes = {'F1':.1,'F2':-.1}\n",
        "\n",
        "Q = 0*z\n",
        "F = 0*z\n",
        "for F_key,F_value in Plumes.items():\n",
        "\n",
        "  print(F_key,F_value)\n",
        "  Fi,Qi  = Plume_Solve(F_value,Nsq)\n",
        "  Plot_F_and_Q(Fi,Qi)\n",
        "  F+=Fi; Q+=Qi\n",
        "\n",
        "Plot_F_and_Q(F,Q)"
      ]
    },
    {
      "cell_type": "markdown",
      "metadata": {
        "id": "4DbTYEgWG3A9"
      },
      "source": [
        "(2) A Monte-Carlo approach by sampling from a normal distribution of mean $F_i$ and standard deviation 10% of the mean."
      ]
    },
    {
      "cell_type": "code",
      "execution_count": null,
      "metadata": {
        "id": "T7fmGu2pHuOk"
      },
      "outputs": [],
      "source": [
        "Q = 0*z\n",
        "F = 0*z\n",
        "for F_key,F_value in Plumes.items():\n",
        "\n",
        "  print(F_key,F_value)\n",
        "  Fi,Qi  = Plume_Solve_Monte_Carlo(F_value,Nsq,samples = 10**3)\n",
        "  Plot_F_and_Q(Fi,Qi)\n",
        "  F+=Fi; Q+=Qi\n",
        "\n",
        "Plot_F_and_Q(F,Q)"
      ]
    },
    {
      "cell_type": "markdown",
      "metadata": {
        "id": "RkpWE9-FSHV7"
      },
      "source": [
        "(3) A solution of the Fokker-Planck equation\n",
        "\\begin{equation}\n",
        "    \\frac{\\partial }{\\partial z} P_{FQ} = -\\frac{\\partial }{\\partial f} \\left[ \\left(-N^2(z) q \\right) P_{FQ} \\right] -\\frac{\\partial }{\\partial q} \\left[ \\left( \\frac{q}{z-z_v} + \\frac{3^4}{2^6} \\frac{\\delta^4 \\pi^2 (z - z_v)^4}{q^2} f \\right) P_{FQ} \\right] + D_F \\frac{\\partial^2 P_{FQ}}{\\partial f^2} + D_Q \\frac{\\partial^2 P_{FQ}}{\\partial q^2}.\n",
        "\\end{equation}\n",
        "with the initial condition\n",
        "\\begin{equation}\n",
        "    P_{F|Q}(f|q=0;z=0) = \\mathcal{N}(\\mu = F_i, \\sigma^2 = 0.1\\mu),\n",
        "\\end{equation}\n",
        "where $z$ has been shifted to the virtual origin $z \\to z - z_v$ where $z_v \\leq 0$, in order to avoid the singularities which would otherwise occur at $z=0$."
      ]
    },
    {
      "cell_type": "markdown",
      "metadata": {
        "id": "9TyXzdkY2tpK"
      },
      "source": [
        "To solve this equation we load the base class **FD_Solve** which includes routines to solve the Fokker-Planck equation using a finite difference method."
      ]
    },
    {
      "cell_type": "code",
      "execution_count": 245,
      "metadata": {
        "colab": {
          "base_uri": "https://localhost:8080/",
          "height": 880
        },
        "id": "zHM1W39U230a",
        "outputId": "fc086d3e-62c6-4567-8f5a-c9eb6db1e163"
      },
      "outputs": [],
      "source": [
        "from Finite_Difference_Solver import FD_Solve"
      ]
    },
    {
      "cell_type": "markdown",
      "metadata": {},
      "source": [
        "Inherting this class we then write a class specific to our equation which includes the diffusion and drift terms as implemented below."
      ]
    },
    {
      "cell_type": "code",
      "execution_count": 247,
      "metadata": {},
      "outputs": [],
      "source": [
        "class PlumesFokkerPlanck(FD_Solve):\n",
        "\n",
        "    \"\"\"\n",
        "    Solver class derived from FD solve which solves the Foker-planck equation underlying the plume equations forced by a Wiener process\n",
        "\n",
        "    Inputs\n",
        "    -N grid-size (int)\n",
        "    -domain (dictionary) e.g.  {'name':'x','interval':(-1,1)}\n",
        "\n",
        "    Methods:\n",
        "    -init\n",
        "    -Lin_operator\n",
        "    -NLin_operator\n",
        "    -Histogram\n",
        "    \"\"\"\n",
        "\n",
        "    def __init__(self,Nsq,z, N,domain,dt=0.01,endTime=10.):\n",
        "      \n",
        "      # Initialise the base clas\n",
        "      super().__init__(N,domain,dt,endTime)\n",
        "\n",
        "      # Set the system parameters\n",
        "      self.δ   =-0.25\n",
        "      self.z_v =-1e-03\n",
        "      self.D_F = 0.0\n",
        "      self.D_Q = 0.5\n",
        "\n",
        "      # Stratification\n",
        "      self.Nsq = Nsq\n",
        "      self.z   = z\n",
        "\n",
        "      # build the drift & Diffusion terms\n",
        "      self.Drift_μ()\n",
        "\n",
        "      # Probability Field\n",
        "      self.P = 0\n",
        "        \n",
        "    def Drift_μ(self):\n",
        "      \n",
        "      # Create the nonlinear part\n",
        "      II = sparse.eye(self.N);\n",
        "      D  = self.Grad();\n",
        "      self.Df = pow(self.df,-1)*sparse.kron( D, II);\n",
        "      self.Dq = pow(self.dq,-1)*sparse.kron( II, D);\n",
        "\n",
        "      # (2) Create flat arrays of each of these vectors using Kronecker product\n",
        "      I = np.ones(self.N)\n",
        "      f = np.kron(self.f,I)\n",
        "      q = np.kron(I,self.q)\n",
        "\n",
        "      # (3) Create the vector field\n",
        "      self.F = lambda z: -np.interp(z,self.z,self.Nsq)*q;\n",
        "      self.Q = lambda z: q/(z - self.z_v) + (3**4/2**6)*( ( (z-self.z_v)**4 * self.δ**4 * π**2)/(q**2) )*f\n",
        "\n",
        "      return None\n",
        "\n",
        "    def Lin_operator(self):\n",
        "\n",
        "      \"\"\"\n",
        "      Build the lineat diffusion term\n",
        "\n",
        "      L = - [ D_F ∂^2P/∂f^2 + D_Q ∂^2P/∂q^2 ]\n",
        "\n",
        "      \"\"\"\n",
        "\n",
        "      # (1) Create a 2D mass matrix by using the kronecker product\n",
        "      II     = sparse.eye(self.N);\n",
        "      Lap_ff = self.D_F*pow(self.df,-2)*sparse.kron(self.Laplacian(bcs='Dirichlet'),II)\n",
        "      Lap_qq = self.D_Q*pow(self.dq,-2)*sparse.kron(II,self.Laplacian(bcs='Neumann')  )\n",
        "\n",
        "      return -sparse.csr_matrix(Lap_ff + Lap_qq)\n",
        "\n",
        "    def NLin_operator(self,P,z):\n",
        "\n",
        "      \"\"\"\n",
        "      Build the nonlinear drift term\n",
        "\n",
        "      F(P,z) = −∂/∂f[(−N^2(z)q)*P]−∂/∂q[(q/z + (3^4/2^6)*(δ^4 π^2 z^4)/(q^2) f)*P]\n",
        "\n",
        "      \"\"\"\n",
        "\n",
        "      return -self.Df@(self.F(z)*P) - self.Dq@(self.Q(z)*P)\n",
        "\n",
        "    def Histogram(self):\n",
        "\n",
        "        P = self.P;\n",
        "        N = self.N;\n",
        "\n",
        "        # Add plotting here\n",
        "        # P is structured as ~ (X kron Y) kron Z\n",
        "        # Reconstruct this as a 3D matrix\n",
        "        W    = P.reshape( (N,N) );\n",
        "        X, Y = np.meshgrid(self.f, self.q)\n",
        "\n",
        "        fig = plt.figure()        \n",
        "\n",
        "        ax = fig.add_subplot(111)\n",
        "        cf = ax.pcolormesh(X,Y,W.T,cmap='Greys',vmax=np.max(W)) # Normalise this + show the colour bar ,norm=\"log\"\n",
        "        \n",
        "        #ax = fig.add_subplot(111, projection='3d')\n",
        "        #cf = ax.plot_surface(X, Y, W.T, cmap='Greys',linewidth=0, antialiased=False)\n",
        "        \n",
        "        ax.set_xlabel(r'buoyancy flux - $f$')\n",
        "        ax.set_ylabel(r'volume flux - $q$')\n",
        "        fig.colorbar(cf)\n",
        "        plt.show()\n",
        "\n",
        "        return None\n",
        "    \n",
        "    def Fluxes(self):\n",
        "      \n",
        "      fig = plt.figure()        \n",
        "      ax1 = fig.add_subplot(121)\n",
        "      ax2 = fig.add_subplot(122)\n",
        "\n",
        "      P_FQ = self.P.reshape( (self.N,self.N) )\n",
        "      I    = np.ones(self.N)\n",
        "\n",
        "      f    = np.outer(self.f,I)\n",
        "      EF_Z = np.trapz(y = f*P_FQ,x = self.q,axis=1)\n",
        "\n",
        "      ax1.plot(self.f, EF_Z)\n",
        "      ax1.set_xlabel(r'$f$')\n",
        "      ax1.set_ylabel(r'$P_F(f)$')\n",
        "\n",
        "      q     = np.outer(I,self.q)\n",
        "      EQ_Z = np.trapz(y = q*P_FQ,x = self.f,axis=0)\n",
        "\n",
        "      ax2.plot(self.q, EQ_Z)\n",
        "      ax2.set_xlabel(r'$q$')\n",
        "      ax2.set_ylabel(r'$P_Q(q)$')\n",
        "    \n",
        "      plt.tight_layout()\n",
        "      plt.show()\n",
        "      \n",
        "      return None"
      ]
    },
    {
      "attachments": {},
      "cell_type": "markdown",
      "metadata": {},
      "source": [
        "We first obtain solutions for rising plumes. \n",
        "\n",
        "To do so we restrict the domain to be semi-infinite $\\Omega_{FQ}: \\mathbb{R}^+ \\times \\mathbb{R}$ (in practice a domain of finite size) and impose the absorbing boundary conditions\n",
        "\\begin{equation}\n",
        "    P_{FQ}(f=0,q;z) = P_{FQ}(f=1,q;z) = 0,\n",
        "\\end{equation}\n",
        "for $F$. While for $Q$ we have the boundary conditions **???**\n",
        "\\begin{equation}\n",
        "    P_{FQ}(f,q=\\pm 1;z) = \n",
        "\\end{equation}\n",
        "For the initial distribution we specify a product of the normal distribution times the gamma distribution\n",
        "\\begin{equation}\n",
        "    P_{FQ}(f,q;z=0) = \\mathcal{N}(\\mu = F_i, \\sigma^2 = 0.1\\mu) \\Bigl( \\frac{\\beta^{\\alpha}}{\\Gamma(\\alpha)} x^{\\alpha -1} e^{-\\beta x} \\Bigr)\n",
        "\\end{equation}\n",
        "such that there is zero probability of events with $Q=0$. "
      ]
    },
    {
      "cell_type": "code",
      "execution_count": null,
      "metadata": {},
      "outputs": [],
      "source": [
        "# Domain\n",
        "Ω_FQ = [ {'name':'f','interval':(0,.6)}, {'name':'q','interval':(-1,6)} ]\n",
        "\n",
        "Nsq    = 1*np.exp(z) #(z/z)\n",
        "\n",
        "# Boundary conditions\n",
        "\n",
        "# Solver\n",
        "FP   = PlumesFokkerPlanck(Nsq,z,N=128,domain=Ω_FQ,dt=1e-05,endTime=2e-3)\n",
        "\n",
        "# Initial distribution\n",
        "F_i = 0.5\n",
        "from scipy.stats import gamma,norm\n",
        "P_F  = norm.pdf(FP.f,loc=F_i,scale=0.05*F_i)\n",
        "P_Q  = gamma.pdf(FP.q,a=10,loc=0.02,scale=0.1)\n",
        "FP.P = np.kron(P_F,P_Q)\n",
        "print('Initial mass =',np.sum(FP.P*FP.dV))\n",
        "\n",
        "#FP.Histogram()\n",
        "FP.Fluxes()\n",
        "FP.Time_Integrate(θ = 0.5)\n",
        "FP.Fluxes()\n",
        "FP.Histogram()"
      ]
    },
    {
      "attachments": {},
      "cell_type": "markdown",
      "metadata": {},
      "source": [
        "As show by the previous solutions we ecounter difficulties when the distribution encounter the boundary of the state space. It is possible that refining the boundary condition on $P_Q$ will resolve this issue."
      ]
    },
    {
      "cell_type": "code",
      "execution_count": null,
      "metadata": {
        "id": "j4AGm_ULTueL"
      },
      "outputs": [],
      "source": [
        "Q = 0*z\n",
        "F = 0*z\n",
        "for F_key,F_value in Plumes.items():\n",
        "\n",
        "  print(F_key,F_value)\n",
        "  Fi,Qi  = Plume_Solve_Fokker_Planck(F_value,Nsq,samples = 10**3)\n",
        "  Plot_F_and_Q(Fi,Qi)\n",
        "  F+=Fi; Q+=Qi\n",
        "\n",
        "Plot_F_and_Q(F,Q)"
      ]
    },
    {
      "cell_type": "markdown",
      "metadata": {
        "id": "T7q8x4OOGkev"
      },
      "source": [
        "Equipped with a means to obtain the velocity field we can now combine this with the 1D advection diffusion equation for buoyancy\n",
        "\\begin{equation*}\n",
        "\\frac{\\partial b}{\\partial t} + \\bar{w} \\frac{\\partial b}{\\partial z} = \\frac{\\partial }{\\partial z} \\Big( \\Gamma \\frac{\\partial b}{\\partial z} \\Big),\n",
        "\\end{equation*}\n",
        "where\n",
        "\\begin{equation*}\n",
        "\\bar{w}(z) = -\\frac{1}{A} \\sum_i Q_i(z),\n",
        "\\end{equation*}\n",
        "and $\\Gamma$ is a turbulent diffusion. To do we solve the advection diffusion equation for buoyancy $b(z,t)$ as below, where $\\Gamma$ is taken as a constant."
      ]
    },
    {
      "cell_type": "code",
      "execution_count": 5,
      "metadata": {
        "id": "l05gHEkNNSKx"
      },
      "outputs": [],
      "source": [
        "def step_buoyancy(w,b,Γ=.1,Δt=1e-03,A_inv = None, B = None):\n",
        "\n",
        "    \"\"\"\n",
        "    Step forward using one time-step\n",
        "\n",
        "    if Γ > 0:\n",
        "    Crank-Nicolson\n",
        "    elif Γ == 0\n",
        "    Euler-Explicit\n",
        "\n",
        "    returns b(z,t_n+1)\n",
        "    \"\"\"\n",
        "\n",
        "    if Γ > 0:\n",
        "\n",
        "      if (A_inv is None) and (B is None):\n",
        "        A = (I/Δt - .5*Γ*L)\n",
        "        B = (I/Δt + .5*Γ*L)\n",
        "        return np.linalg.solve(A,B@b - w*(D@b) )\n",
        "      else:\n",
        "        return A_inv@( B@b - w*(D@b) )\n",
        "\n",
        "    elif Γ == 0:\n",
        "\n",
        "      #Courant number |c*dt/dx| < 1\n",
        "      c = np.max(abs(w))\n",
        "      while  (c*Δt)/dz > 1.:\n",
        "        dt *=0.5\n",
        "\n",
        "      return b - Δt*w*(D@b)"
      ]
    },
    {
      "attachments": {},
      "cell_type": "markdown",
      "metadata": {
        "id": "niUcUBmbLztW"
      },
      "source": [
        "With a solver developed for the plume equations and for the 1D buoyancy equations we now link these routines together to establish the background stratification profile for a given set of plume sources and sinks. We consider the case of two opposing plumes of equal strength. \n",
        "\n",
        "We first specify initial conditions for the rising plume\n",
        "\\begin{align}\n",
        "  F_1(z=0) &= .1, \\\\\n",
        "  Q_1(z=0) &= 0, \\\\\n",
        "\\end{align}\n",
        "the sinking plume\n",
        "\\begin{align}\n",
        "  F_2(z=1) &=-.1, \\\\\n",
        "  Q_2(z=1) &= 0, \\\\\n",
        "\\end{align}\n",
        "and the initial stratification\n",
        "\\begin{equation}\n",
        "  db/dz(z,t_0=0) = 1.\n",
        "\\end{equation}\n",
        "Using these boundary conditions we then:\n",
        "- Solve the plume equations using $db/dz(z,t_n)$ for each of the plumes to obtain $Q_i^n$\n",
        "- Compute $\\bar{w}(z,t_n)$ from the sum of the plumes's volume fluxes $Q_i^n$\n",
        "- Timestep the 1D buoyancy equation forward from $t_n \\to t_n + \\Delta t$ to update $db/dz(z,t_n)$ \\\\\n",
        "\n",
        "This process is repeated until the residual error\n",
        "\\begin{equation}\n",
        "  || db^{n+1}/dz - db^{n}/dz ||_2/||db^{n}/dz || < \\text{tol},\n",
        "\\end{equation}\n",
        "falls below a user prescribed tolerance.\n",
        "\n",
        "Below we implement our refined solver for this system which implements the two equation model and includes options to use a Monte-Carlo, deterministic or Fokker-Planck based solution of the governing equations."
      ]
    },
    {
      "cell_type": "code",
      "execution_count": 6,
      "metadata": {
        "id": "umQ0KGtqHNaF"
      },
      "outputs": [],
      "source": [
        "def Strat_solve(b,Plumes,Γ=5e-04,Δt=1e-03,Area=1.0,Iterations=10**4,method=None):\n",
        "\n",
        "  A_inv = np.linalg.inv(I/Δt - .5*Γ*L)\n",
        "  B     = (I/Δt + .5*Γ*L)\n",
        "\n",
        "  Error = [1.0];\n",
        "  iter  = 0;\n",
        "  Nsq   = D@b;\n",
        "\n",
        "  W_frames = []\n",
        "  B_frames = []\n",
        "\n",
        "  # (4) Grab the frames\n",
        "  W_frames.append(0*b[1:-1])\n",
        "  B_frames.append(b[1:-1])\n",
        "\n",
        "  while (iter < Iterations):\n",
        "\n",
        "    # (1) solve plume equations\n",
        "    w = 0*z\n",
        "    for F_key,F_value in Plumes.items():\n",
        "\n",
        "      if method =='Monte_Carlo':\n",
        "        Q_i= Plume_Solve_Monte_Carlo(F_value,Nsq,samples = 100)[1]\n",
        "      elif method =='Fokker_Planck':\n",
        "        Q_i= Plume_Solve_Fokker_Planck(F_value,Nsq,samples = 10)[1]\n",
        "      else:\n",
        "        Q_i= Plume_Solve(F_value,Nsq)[1]\n",
        "\n",
        "      w -= Q_i/Area\n",
        "\n",
        "    # (2) step db/dt forward\n",
        "    b = step_buoyancy(w,b,Γ=Γ,Δt=Δt,A_inv=A_inv,B=B)\n",
        "\n",
        "    # (3) update N^2 & check converged\n",
        "    Error.append(  np.linalg.norm(Nsq - D@b,2)/np.linalg.norm(Nsq,2) )\n",
        "    Nsq   = D@b;\n",
        "    iter += 1.\n",
        "\n",
        "    if iter%(Iterations//10) ==0:\n",
        "      print('Iteration i = %d, Residual error r_i = %e \\n'%(iter,Error[-1]))\n",
        "      #Plot_F_and_Q(w,b,label_f='w(z)',label_q='b(z)')\n",
        "    \n",
        "    # (4) Grab the frames\n",
        "    W_frames.append(w[1:-1])\n",
        "    B_frames.append(b[1:-1])\n",
        "\n",
        "  return Error,w,b, W_frames, B_frames"
      ]
    },
    {
      "cell_type": "code",
      "execution_count": 7,
      "metadata": {
        "id": "2sO3zXsSkBIq"
      },
      "outputs": [
        {
          "name": "stdout",
          "output_type": "stream",
          "text": [
            "Iteration i = 500, Residual error r_i = 4.516069e-04 \n",
            "\n",
            "Iteration i = 1000, Residual error r_i = 3.894141e-04 \n",
            "\n",
            "Iteration i = 1500, Residual error r_i = 3.206006e-04 \n",
            "\n",
            "Iteration i = 2000, Residual error r_i = 2.868063e-04 \n",
            "\n",
            "Iteration i = 2500, Residual error r_i = 2.899605e-04 \n",
            "\n",
            "Iteration i = 3000, Residual error r_i = 2.906570e-04 \n",
            "\n",
            "Iteration i = 3500, Residual error r_i = 3.278463e-03 \n",
            "\n",
            "Iteration i = 4000, Residual error r_i = 1.898373e-04 \n",
            "\n",
            "Iteration i = 4500, Residual error r_i = 1.777945e-04 \n",
            "\n",
            "Iteration i = 5000, Residual error r_i = 1.277488e-03 \n",
            "\n"
          ]
        },
        {
          "data": {
            "image/png": "[encoded data removed]",
            "text/plain": [
              "<Figure size 640x480 with 1 Axes>"
            ]
          },
          "metadata": {},
          "output_type": "display_data"
        }
      ],
      "source": [
        "# Sources and IC\n",
        "b      = 2*z;\n",
        "Plumes = {'F1':.1,'F2':-.1}\n",
        "#Plumes = {'F1':0.1,'F2':0.05,'F3':-0.15}\n",
        "\n",
        "\n",
        "# Solve\n",
        "Error,w,b, W_frames, B_frames = Strat_solve(b,Plumes,Iterations=5*10**3,method=None)#,method='Monte_Carlo')\n",
        "\n",
        "plt.ylabel(r'$|N^2_{i+1} - N^2_i|_2/|N^2_i|_2$')\n",
        "plt.xlabel(r'Iteration $i$')\n",
        "plt.semilogy(Error)\n",
        "plt.show()\n",
        "\n",
        "#Plot_F_and_Q(w  ,b  ,label_f='w(z)'    ,label_q='b(z)'  )\n"
      ]
    },
    {
      "attachments": {},
      "cell_type": "markdown",
      "metadata": {},
      "source": [
        "As shown by the convergence history this system is more robust in its convergence behaviour. This is likely due to the fact that we have constained the system to a solution manifold by eliminating $M$. Below we can create a video by using the following code"
      ]
    },
    {
      "cell_type": "code",
      "execution_count": 9,
      "metadata": {},
      "outputs": [
        {
          "data": {
            "image/png": "[encoded data removed]",
            "text/plain": [
              "<Figure size 800x400 with 2 Axes>"
            ]
          },
          "metadata": {},
          "output_type": "display_data"
        }
      ],
      "source": [
        "import matplotlib.pyplot as plt\n",
        "plt.rcParams.update({\"text.usetex\": True, \"font.family\": \"sans-serif\", \"font.sans-serif\": \"Helvetica\"})\n",
        "from matplotlib.animation import FuncAnimation\n",
        "\n",
        "# Setup the figure\n",
        "fig, (ax1, ax2) = plt.subplots(nrows=1, ncols=2, figsize=(8, 4), layout='constrained')\n",
        "\n",
        "ax1.set_xlabel(r'$z$', fontsize=20)\n",
        "ax1.set_ylabel(r'$W(z)$', fontsize=20)\n",
        "ax1.set_xlim([0, 1])\n",
        "#ax2.set_ylim([-.1, .1])\n",
        "ax1.grid(True)\n",
        "\n",
        "ax2.set_xlabel(r'$z$', fontsize=20)\n",
        "ax2.set_ylabel(r'$B(z)$', fontsize=20)\n",
        "ax2.set_xlim([0, 1])\n",
        "#ax2.set_ylim([2, 8])\n",
        "ax2.grid(True)\n",
        "\n",
        "def animation_function(i):\n",
        "  \n",
        "  for line in ax1.get_lines():\n",
        "    line.remove()\n",
        "  line1 = ax1.plot(z[1:-1], W_frames[i], 'b', linewidth=2)\n",
        "  \n",
        "  for line in ax2.get_lines():\n",
        "    line.remove()\n",
        "  line2 = ax2.plot(z[1:-1], (B_frames[i] - np.min(B_frames[i]))/(np.max(B_frames[i]) - np.min(B_frames[i])), 'r', linewidth=2)\n",
        "  \n",
        "  return line1, line2\n",
        "\n",
        "anim = FuncAnimation(fig=fig,func=animation_function, frames=np.arange(0,len(W_frames),50))\n",
        "anim.save('Part2_Plume_SIM.mp4',fps=10)"
      ]
    },
    {
      "attachments": {},
      "cell_type": "markdown",
      "metadata": {},
      "source": [
        "As shown in the animation the system converges to a two layered stratification. Once again we can add more plumes however this hampers the convergence of the formulation and as previous discontinuities remain in the buoyancy field even when $W(z)$ has been somewhat regularised by applying the stochastic formulation."
      ]
    }
  ],
  "metadata": {
    "colab": {
      "include_colab_link": true,
      "provenance": []
    },
    "kernelspec": {
      "display_name": "D*stratify",
      "language": "python",
      "name": "python3"
    },
    "language_info": {
      "codemirror_mode": {
        "name": "ipython",
        "version": 3
      },
      "file_extension": ".py",
      "mimetype": "text/x-python",
      "name": "python",
      "nbconvert_exporter": "python",
      "pygments_lexer": "ipython3",
      "version": "3.10.8"
    },
    "vscode": {
      "interpreter": {
        "hash": "72e7303ca26bc62ca7c9987927bcca5087bad2db8a6d732cefb1603e02c0ba41"
      }
    }
  },
  "nbformat": 4,
  "nbformat_minor": 0
}
