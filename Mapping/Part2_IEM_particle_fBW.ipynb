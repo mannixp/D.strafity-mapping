{
 "cells": [
  {
   "attachments": {},
   "cell_type": "markdown",
   "metadata": {},
   "source": [
    "**Part 2 - Model in 2D for f_WB using the IEM closure**\n",
    "\n",
    "This notebook implements the interaction by exchange with the mean model (IEM) as introduced by (Dopazo, C. & O'Brien, E. 1974) and discussed by (Pope, S.B. 2010), in order to obtain a closure for the buoyancy equation\n",
    "\n",
    "\\begin{align}\n",
    "    \\frac{D \\boldsymbol{U} }{Dt} &= -\\nabla P + B \\boldsymbol{\\hat{z}} + Re^{-1} \\Delta \\boldsymbol{U}, \\quad \\nabla \\cdot \\boldsymbol{U} = 0, \\\\\n",
    "    \\frac{D B }{Dt}      &= Pe^{-1}  \\Delta B.\n",
    "\\end{align}\n",
    "\n",
    "We model the time evolution of the PDF $f_{\\boldsymbol{Y}}$ for $\\boldsymbol{Y} = (W,B)$.\n",
    "\n",
    "\n",
    "*Evolution equation*\n",
    "\n",
    "The joint pdf $f_{\\boldsymbol{Y}}$ evolves according to \n",
    "\n",
    "\\begin{equation}\n",
    "    \\frac{\\partial f_{\\boldsymbol{Y}} }{\\partial t} = - \\frac{\\partial }{\\partial b} \\left( \\left[ \\boldsymbol{D}^{(1)} + \\alpha  \\Delta B \\right] f_{\\boldsymbol{Y}} \\right) - \\frac{\\partial }{\\partial w} \\left( \\mathbb{E}_{\\boldsymbol{Y}}[ - \\nabla_Z P + B + \\nu  \\Delta W ] f_{\\boldsymbol{Y}} \\right)\n",
    "\\end{equation}\n",
    "\n",
    "The term $\\boldsymbol{D}^{(1)}$ is responsible for forcing from internal heating or sources/sinks of buoyancy at the boundaries. Terms $\\mathbb{E}_{\\boldsymbol{Y}}[\\alpha  \\Delta B ]$ and $\\mathbb{E}_{\\boldsymbol{Y}}[ \\nu  \\Delta W ]$ are responsible for micro-scale molecular mixing locally in buoyancy space and in for viscous dissipation in velocity space. Both terms are unknown and must be modelled. The last term corresponds to the imbalance of the vertical pressure gradient and buoyancy conditioned on $\\boldsymbol{Y}$. "
   ]
  },
  {
   "attachments": {},
   "cell_type": "markdown",
   "metadata": {},
   "source": [
    "*Molecular mixing closure*\n",
    "\n",
    "For the conditional diffusion term we will employ the IEM model. \n",
    "\\begin{equation}\n",
    "  \\mathbb{E}_{\\boldsymbol{Y}}[ \\alpha \\Delta B ] = -\\frac{\\alpha}{\\tau_{B}(t)} \\left( b - \\mathbb{E}_W[B] \\right),\n",
    "\\end{equation}\n",
    "\n",
    "where $\\tau_B(t)$ defines a characteristic time-scale of the buoyancy fluctuations.\n",
    "\n",
    "*Velocity PDF closure*\n",
    "\n",
    "For the conditional diffusion term we will employ the IEM model. \n",
    "\\begin{equation}\n",
    "  \\mathbb{E}_{\\boldsymbol{Y}}[ \\alpha \\Delta W ] f_{\\boldsymbol{Y}} = -\\frac{\\nu}{\\tau_{W}(t)} \\left( w - \\mathbb{E}[W] \\right) f_{\\boldsymbol{Y}} + (C_0 \\epsilon)^{1/2} d \\mathcal{W},\n",
    "\\end{equation}\n",
    "\n",
    "where $\\tau_W(t)$ defines a characteristic time-scale of the velocity fluctuations and $\\mathcal{W}_t$ a Wiener process."
   ]
  },
  {
   "attachments": {},
   "cell_type": "markdown",
   "metadata": {},
   "source": [
    "*Pressure Gradient*\n",
    "\n",
    "To model the vertical pressure gradient we can volume integrating the Boussinesq equations to obtain\n",
    "\\begin{equation}\n",
    "\\frac{1}{V} \\int_{\\Omega} \\frac{\\partial W}{\\partial t} d \\mathbb{x} = \\frac{1}{V} \\int_{\\Omega} \\left( -\\nabla_Z P + B \\right) d \\mathbb{x}\n",
    "\\end{equation}\n",
    "provided we have periodic boundary conditions or $W=0$ on the domain boundary $\\partial \\Omega$. This implies that the time-rate of change of the vertical velocity is zero if the system is in hydrostatic balance $\\mathbb{E}[-\\nabla_Z P + B] = 0$. This suggests at least to first order hydrostatic equilibrium may provide a good approximation. A variety of 2D simulations also support this conclusion. Expanding this relation we obtain\n",
    "\n",
    "\\begin{align*}\n",
    "\\mathbb{E}[-\\nabla_Z P + B] &= 0,\\\\\n",
    "\\mathbb{E}_Y[-\\nabla_Z P] &= -\\mathbb{E}_W[B],\\\\\n",
    "\\mathbb{E}_Y[B-\\nabla_Z P] &= \\mathbb{E}_Y[B] - \\mathbb{E}_W[B],\\\\\n",
    "\\mathbb{E}_W[ \\mathbb{E}_Y[B] ] - \\mathbb{E}_W[B] &= 0, \\\\\n",
    "\\end{align*}\n",
    "and so we use the average of $B$ conditioned on $W$ ($\\mathbb{E}_Y[-\\nabla_Z P] = -\\mathbb{E}_W[B]$) to model the conditional average of the vertical pressure gradient."
   ]
  },
  {
   "attachments": {},
   "cell_type": "markdown",
   "metadata": {},
   "source": [
    "*Closed evolution equation*\n",
    "\n",
    "Substituting the closures for the unknown terms we obtain a system of two coupled SDEs\n",
    "\n",
    "\\begin{align}\n",
    "dB_t &= \\boldsymbol{D}^{(1)}(W_t,B_t,t) dt - \\omega_B \\left( B_t - \\mathbb{E}_{W_t}[B_t] \\right) dt + \\sigma_B d\\mathcal{W}_t, \\\\\n",
    "dW_t &= (B_t -\\mathbb{E}_W[B_t]) dt - \\omega_W \\left( W_t - \\mathbb{E}_{B_t}[W_t] \\right) dt + \\sigma_W d\\mathcal{W}_t.\n",
    "\\end{align}\n",
    "\n",
    "which is an McKean-Vlasov equation, as\n",
    "\n",
    "\\begin{equation}\n",
    "\\mathbb{E}_W[B] = \\int b f_{B|W}(b|w;t) db = \\int b \\frac{f_{WB}(w,b;t)}{f_W(w;t)} db,\n",
    "\\end{equation}\n",
    "\n",
    "depends on the global PDF at each time-instant. Subject to specifying $\\tau_B$ and $\\tau_W$ and suitable boundary conditions this equation is closed and can be solved numerically.  Below we implement this equation using a Monte-Carlo method specifying $\\tau_B = \\tau_W = 1$."
   ]
  },
  {
   "attachments": {},
   "cell_type": "markdown",
   "metadata": {},
   "source": [
    "**Setup**\n",
    "\n",
    "We first import the required libraries to implement this model."
   ]
  },
  {
   "cell_type": "code",
   "execution_count": 10,
   "metadata": {},
   "outputs": [],
   "source": [
    "import numpy as np\n",
    "import matplotlib.pyplot as plt\n",
    "from scipy.integrate import trapezoid as trapz\n",
    "from derivatives import *\n",
    "from scipy.stats import gaussian_kde, norm\n"
   ]
  },
  {
   "attachments": {},
   "cell_type": "markdown",
   "metadata": {},
   "source": [
    "We then define a computation grid for $f_{BW}(b,w;t)$ in terms of $b,w$. "
   ]
  },
  {
   "cell_type": "code",
   "execution_count": 11,
   "metadata": {},
   "outputs": [],
   "source": [
    "# Boundary conditions\n",
    "bc_b = 'Neumann'\n",
    "bc_w = 'Neumann'\n",
    "\n",
    "# Numerical resolution\n",
    "N_b = 64\n",
    "N_w = 64 + 1\n",
    "\n",
    "# Domain\n",
    "b_min =-5\n",
    "b_max = 5\n",
    "w_min =-10\n",
    "w_max = 10\n",
    "b_grid = np.linspace(b_min, b_max, N_b)\n",
    "w_grid = np.linspace(w_min, w_max, N_w) \n",
    "\n",
    "# Time-scales\n",
    "omega_B = .75\n",
    "omega_W = .75\n",
    "\n",
    "sigma_B = .2             # Diffusion coefficient\n",
    "sigma_W = .2             # Diffusion coefficient"
   ]
  },
  {
   "attachments": {},
   "cell_type": "markdown",
   "metadata": {},
   "source": [
    "Then we set up the system of SDEs"
   ]
  },
  {
   "cell_type": "code",
   "execution_count": 12,
   "metadata": {},
   "outputs": [],
   "source": [
    "def Apply_BC(x, x_max, x_min):\n",
    "    \"\"\"\n",
    "    Enforce the reflecting boundary conditions equivalent to Neumann.\n",
    "    \"\"\"\n",
    "\n",
    "    # Reflect back inside the top/right hand boundary\n",
    "    x = np.where(x > x_max, x_max - (x - x_max), x) \n",
    "    \n",
    "    # Reflect back inside the bottom/left hand boundary\n",
    "    x = np.where(x < x_min, x_min + (x_min - x), x) \n",
    "\n",
    "    return x\n",
    "\n",
    "\n",
    "def density(X,Y, N_X=64, N_Y=64):\n",
    "\n",
    "    f_XY, x_edges, y_edges = np.histogram2d(X, Y, bins=(N_X,N_Y), density=True)\n",
    "    x = .5*(x_edges[1:] + x_edges[:-1])\n",
    "    y = .5*(y_edges[1:] + y_edges[:-1])\n",
    "\n",
    "    dx = x[1]-x[0]\n",
    "    dy = y[1]-y[0]\n",
    "\n",
    "    I_x = np.ones(N_X)\n",
    "    I_y = np.ones(N_Y)\n",
    "\n",
    "    f_X = np.sum(f_XY, axis=0)*dx\n",
    "    f_Y = np.sum(f_XY, axis=1)*dy\n",
    "\n",
    "    # EY_X\n",
    "    #EX_cY = np.sum(np.outer(x,I_y)*f_XY,axis=0)*dx/f_Y\n",
    "\n",
    "    # EX_Y\n",
    "    #EY_cX = np.sum(np.outer(I_x,y)*f_XY,axis=1)*dx/f_X\n",
    "\n",
    "    return f_XY, f_X, f_Y, x,y \n",
    "\n",
    "\n",
    "def density_kde(X,Y):\n",
    "    \"\"\"Calculates the expectation of X given Y\"\"\"\n",
    "\n",
    "    # Step 1: Estimate the joint density f_{X,Y}(x, y)\n",
    "    data = np.vstack([X, Y])  # Stack X and Y into a 2D array\n",
    "    kde_joint = gaussian_kde(data)\n",
    "\n",
    "    # Step 2: Estimate the marginal density f_Y(y)\n",
    "    kde_y = gaussian_kde(Y)\n",
    "\n",
    "    # Step 3: Compute the conditional density f_{X|Y}(x|y)\n",
    "    def conditional_density(x, y):\n",
    "        return kde_joint([x, y]) / kde_y(y)\n",
    "    \n",
    "    # Step 4: Calculate the conditional expectation E[X|Y=y]\n",
    "    def conditional_expectation(y):\n",
    "        # Numerical integration to find E[X | Y=y]\n",
    "        x_values = np.linspace(min(X), max(X), 1000)\n",
    "        cond_density_values = np.array([conditional_density(x, y) for x in x_values])\n",
    "        return np.sum(x_values * cond_density_values) * (x_values[1] - x_values[0])\n",
    "\n",
    "    return conditional_expectation\n",
    "\n",
    "def plotter(f_XY, f_X, f_Y, x,y):\n",
    "    \n",
    "    fig, ax = plt.subplots(nrows=2, ncols=2, layout='constrained')\n",
    "\n",
    "    # First column\n",
    "    ax[0,0].set_ylabel('$f_b$')\n",
    "    ax[0,0].set_xlabel('$b$')\n",
    "    ax[0,0].plot(x, f_X)\n",
    "\n",
    "    ax[1,0].set_title(r'$f$')\n",
    "    cf = ax[1,0].pcolormesh(x,y,f_XY.T, cmap='Reds')#, norm='log')\n",
    "    #fig.colorbar(cf, ax=ax1)\n",
    "    ax[1,0].set_xlabel('$b$')\n",
    "    ax[1,0].set_ylabel('$w$')\n",
    "\n",
    "    # First column\n",
    "    fig.delaxes(ax[0,1])\n",
    "\n",
    "    ax[1,1].set_ylabel('$w$')\n",
    "    ax[1,1].set_xlabel('$f_w$')\n",
    "    ax[1,1].plot(f_Y, y)\n",
    "\n",
    "    plt.show()\n",
    "\n",
    "    return None\n",
    "\n",
    "\n",
    "def solver(T, dt, num_particles = 10**3):\n",
    "    \n",
    "    # Parameters\n",
    "    #num_particles = 10**3  # Number of Monte Carlo samples\n",
    "    num_steps = int(T//dt)      # Time steps\n",
    "    #dt = 0.1               # Time step size\n",
    "\n",
    "    # Brownian increments\n",
    "    dW_t = np.sqrt(dt) * norm.rvs(loc=0, scale=1, size=(num_particles, num_steps, 2))  \n",
    "\n",
    "    # Container\n",
    "    b = np.zeros((num_particles, num_steps))\n",
    "    w = np.zeros((num_particles, num_steps))\n",
    "\n",
    "    # Initial conditions, half of the particles to +1 and the other to -1\n",
    "    b0 = norm.rvs(loc=0, scale=1, size=num_particles)\n",
    "    w0 = norm.rvs(loc=0, scale=1, size=num_particles)\n",
    "\n",
    "    b[:,0] = b0             \n",
    "    w[:,0] = w0\n",
    "    \n",
    "    # Euler Maruyama\n",
    "    for n in range(1, num_steps):\n",
    "\n",
    "        # Conditional means\n",
    "        f_XY, f_X, f_Y, x,y, EY_cX, EX_cY = density(X=b[:, n-1], Y=w[:, n-1]) \n",
    "\n",
    "        #if n%(num_steps//10) == 0:\n",
    "        plotter(f_XY, f_X, f_Y, x,y)\n",
    "\n",
    "        EW_cB = np.interp(x=b[:, n-1], xp=x, fp=EY_cX)\n",
    "        EB_cW = np.interp(x=w[:, n-1], xp=y, fp=EX_cY)\n",
    "\n",
    "        # Update particles\n",
    "        b[:, n] = b[:, n-1]                            - omega_B*(b[:, n-1] - EB_cW) * dt   + sigma_B * dW_t[:,n-1,0]\n",
    "        w[:, n] = w[:, n-1] + (b[:, n-1] - EB_cW) * dt - omega_W*(w[:, n-1] - EW_cB) * dt   + sigma_W * dW_t[:,n-1,1]\n",
    "\n",
    "        # Apply Reflecting/bcs\n",
    "        b[:, n] = Apply_BC(b[:, n], b_max, b_min)\n",
    "        w[:, n] = Apply_BC(w[:, n], w_max, w_min)\n",
    "    \n",
    "    return b, w"
   ]
  },
  {
   "cell_type": "markdown",
   "metadata": {},
   "source": [
    "This system is then solved"
   ]
  },
  {
   "cell_type": "code",
   "execution_count": 13,
   "metadata": {},
   "outputs": [
    {
     "name": "stderr",
     "output_type": "stream",
     "text": [
      "/tmp/ipykernel_20440/3827185607.py:31: RuntimeWarning: divide by zero encountered in divide\n",
      "  EX_cY = np.sum(np.outer(x,I_y)*f_XY,axis=0)*dx/f_Y\n",
      "/tmp/ipykernel_20440/3827185607.py:31: RuntimeWarning: invalid value encountered in divide\n",
      "  EX_cY = np.sum(np.outer(x,I_y)*f_XY,axis=0)*dx/f_Y\n",
      "/tmp/ipykernel_20440/3827185607.py:34: RuntimeWarning: divide by zero encountered in divide\n",
      "  EY_cX = np.sum(np.outer(I_x,y)*f_XY,axis=1)*dx/f_X\n",
      "/tmp/ipykernel_20440/3827185607.py:34: RuntimeWarning: invalid value encountered in divide\n",
      "  EY_cX = np.sum(np.outer(I_x,y)*f_XY,axis=1)*dx/f_X\n"
     ]
    },
    {
     "data": {
      "image/png": "[encoded data removed]",
      "text/plain": [
       "<Figure size 640x480 with 3 Axes>"
      ]
     },
     "metadata": {},
     "output_type": "display_data"
    },
    {
     "ename": "ValueError",
     "evalue": "autodetected range of [nan, nan] is not finite",
     "output_type": "error",
     "traceback": [
      "\u001b[0;31m---------------------------------------------------------------------------\u001b[0m",
      "\u001b[0;31mValueError\u001b[0m                                Traceback (most recent call last)",
      "Cell \u001b[0;32mIn[13], line 1\u001b[0m\n\u001b[0;32m----> 1\u001b[0m solver(T\u001b[39m=\u001b[39;49m\u001b[39m.05\u001b[39;49m,dt\u001b[39m=\u001b[39;49m\u001b[39m0.01\u001b[39;49m)\n",
      "Cell \u001b[0;32mIn[12], line 91\u001b[0m, in \u001b[0;36msolver\u001b[0;34m(T, dt, num_particles)\u001b[0m\n\u001b[1;32m     87\u001b[0m \u001b[39m# Euler Maruyama\u001b[39;00m\n\u001b[1;32m     88\u001b[0m \u001b[39mfor\u001b[39;00m n \u001b[39min\u001b[39;00m \u001b[39mrange\u001b[39m(\u001b[39m1\u001b[39m, num_steps):\n\u001b[1;32m     89\u001b[0m \n\u001b[1;32m     90\u001b[0m     \u001b[39m# Conditional means\u001b[39;00m\n\u001b[0;32m---> 91\u001b[0m     f_XY, f_X, f_Y, x,y, EY_cX, EX_cY \u001b[39m=\u001b[39m density(X\u001b[39m=\u001b[39;49mb[:, n\u001b[39m-\u001b[39;49m\u001b[39m1\u001b[39;49m], Y\u001b[39m=\u001b[39;49mw[:, n\u001b[39m-\u001b[39;49m\u001b[39m1\u001b[39;49m]) \n\u001b[1;32m     93\u001b[0m     \u001b[39m#if n%(num_steps//10) == 0:\u001b[39;00m\n\u001b[1;32m     94\u001b[0m     plotter(f_XY, f_X, f_Y, x,y)\n",
      "Cell \u001b[0;32mIn[12], line 17\u001b[0m, in \u001b[0;36mdensity\u001b[0;34m(X, Y, N_X, N_Y)\u001b[0m\n\u001b[1;32m     15\u001b[0m \u001b[39mdef\u001b[39;00m \u001b[39mdensity\u001b[39m(X,Y, N_X\u001b[39m=\u001b[39m\u001b[39m64\u001b[39m, N_Y\u001b[39m=\u001b[39m\u001b[39m64\u001b[39m):\n\u001b[0;32m---> 17\u001b[0m     f_XY, x_edges, y_edges \u001b[39m=\u001b[39m np\u001b[39m.\u001b[39;49mhistogram2d(X, Y, bins\u001b[39m=\u001b[39;49m(N_X,N_Y), density\u001b[39m=\u001b[39;49m\u001b[39mTrue\u001b[39;49;00m)\n\u001b[1;32m     18\u001b[0m     x \u001b[39m=\u001b[39m \u001b[39m.5\u001b[39m\u001b[39m*\u001b[39m(x_edges[\u001b[39m1\u001b[39m:] \u001b[39m+\u001b[39m x_edges[:\u001b[39m-\u001b[39m\u001b[39m1\u001b[39m])\n\u001b[1;32m     19\u001b[0m     y \u001b[39m=\u001b[39m \u001b[39m.5\u001b[39m\u001b[39m*\u001b[39m(y_edges[\u001b[39m1\u001b[39m:] \u001b[39m+\u001b[39m y_edges[:\u001b[39m-\u001b[39m\u001b[39m1\u001b[39m])\n",
      "File \u001b[0;32m<__array_function__ internals>:200\u001b[0m, in \u001b[0;36mhistogram2d\u001b[0;34m(*args, **kwargs)\u001b[0m\n",
      "File \u001b[0;32m~/miniconda3/envs/Localised/lib/python3.11/site-packages/numpy/lib/twodim_base.py:820\u001b[0m, in \u001b[0;36mhistogram2d\u001b[0;34m(x, y, bins, range, density, weights)\u001b[0m\n\u001b[1;32m    818\u001b[0m     xedges \u001b[39m=\u001b[39m yedges \u001b[39m=\u001b[39m asarray(bins)\n\u001b[1;32m    819\u001b[0m     bins \u001b[39m=\u001b[39m [xedges, yedges]\n\u001b[0;32m--> 820\u001b[0m hist, edges \u001b[39m=\u001b[39m histogramdd([x, y], bins, \u001b[39mrange\u001b[39;49m, density, weights)\n\u001b[1;32m    821\u001b[0m \u001b[39mreturn\u001b[39;00m hist, edges[\u001b[39m0\u001b[39m], edges[\u001b[39m1\u001b[39m]\n",
      "File \u001b[0;32m<__array_function__ internals>:200\u001b[0m, in \u001b[0;36mhistogramdd\u001b[0;34m(*args, **kwargs)\u001b[0m\n",
      "File \u001b[0;32m~/miniconda3/envs/Localised/lib/python3.11/site-packages/numpy/lib/histograms.py:1001\u001b[0m, in \u001b[0;36mhistogramdd\u001b[0;34m(sample, bins, range, density, weights)\u001b[0m\n\u001b[1;32m    998\u001b[0m \u001b[39mif\u001b[39;00m bins[i] \u001b[39m<\u001b[39m \u001b[39m1\u001b[39m:\n\u001b[1;32m    999\u001b[0m     \u001b[39mraise\u001b[39;00m \u001b[39mValueError\u001b[39;00m(\n\u001b[1;32m   1000\u001b[0m         \u001b[39m'\u001b[39m\u001b[39m`bins[\u001b[39m\u001b[39m{}\u001b[39;00m\u001b[39m]` must be positive, when an integer\u001b[39m\u001b[39m'\u001b[39m\u001b[39m.\u001b[39mformat(i))\n\u001b[0;32m-> 1001\u001b[0m smin, smax \u001b[39m=\u001b[39m _get_outer_edges(sample[:,i], \u001b[39mrange\u001b[39;49m[i])\n\u001b[1;32m   1002\u001b[0m \u001b[39mtry\u001b[39;00m:\n\u001b[1;32m   1003\u001b[0m     n \u001b[39m=\u001b[39m operator\u001b[39m.\u001b[39mindex(bins[i])\n",
      "File \u001b[0;32m~/miniconda3/envs/Localised/lib/python3.11/site-packages/numpy/lib/histograms.py:323\u001b[0m, in \u001b[0;36m_get_outer_edges\u001b[0;34m(a, range)\u001b[0m\n\u001b[1;32m    321\u001b[0m     first_edge, last_edge \u001b[39m=\u001b[39m a\u001b[39m.\u001b[39mmin(), a\u001b[39m.\u001b[39mmax()\n\u001b[1;32m    322\u001b[0m     \u001b[39mif\u001b[39;00m \u001b[39mnot\u001b[39;00m (np\u001b[39m.\u001b[39misfinite(first_edge) \u001b[39mand\u001b[39;00m np\u001b[39m.\u001b[39misfinite(last_edge)):\n\u001b[0;32m--> 323\u001b[0m         \u001b[39mraise\u001b[39;00m \u001b[39mValueError\u001b[39;00m(\n\u001b[1;32m    324\u001b[0m             \u001b[39m\"\u001b[39m\u001b[39mautodetected range of [\u001b[39m\u001b[39m{}\u001b[39;00m\u001b[39m, \u001b[39m\u001b[39m{}\u001b[39;00m\u001b[39m] is not finite\u001b[39m\u001b[39m\"\u001b[39m\u001b[39m.\u001b[39mformat(first_edge, last_edge))\n\u001b[1;32m    326\u001b[0m \u001b[39m# expand empty range to avoid divide by zero\u001b[39;00m\n\u001b[1;32m    327\u001b[0m \u001b[39mif\u001b[39;00m first_edge \u001b[39m==\u001b[39m last_edge:\n",
      "\u001b[0;31mValueError\u001b[0m: autodetected range of [nan, nan] is not finite"
     ]
    }
   ],
   "source": [
    "solver(T=.05,dt=0.01)"
   ]
  }
 ],
 "metadata": {
  "kernelspec": {
   "display_name": "Localised",
   "language": "python",
   "name": "python3"
  },
  "language_info": {
   "codemirror_mode": {
    "name": "ipython",
    "version": 3
   },
   "file_extension": ".py",
   "mimetype": "text/x-python",
   "name": "python",
   "nbconvert_exporter": "python",
   "pygments_lexer": "ipython3",
   "version": "3.11.6"
  },
  "orig_nbformat": 4,
  "vscode": {
   "interpreter": {
    "hash": "cbdbb65400b52784974e27914d0a9ea2c0f19a43f21b2e224e9d810080039986"
   }
  }
 },
 "nbformat": 4,
 "nbformat_minor": 2
}
