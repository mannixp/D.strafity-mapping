{
 "cells": [
  {
   "attachments": {},
   "cell_type": "markdown",
   "metadata": {},
   "source": [
    "**Part 3 - Mapping Closure in 2D**\n",
    "\n",
    "This notebook implements the mapping closure developed by (Chen, H. 1989) and extended by (Pope, S.B. 1991) for a two-dimensional (2D) problem where the vector $\\mathbf{Y} = (W,B)$ represents the random variables $W$ - the vertical velocity and $B$ - the buoyancy.\n",
    "\n",
    "*Evolution equation*\n",
    "\n",
    "The joint pdf $f_{\\mathbf{Y}}$ evolves according to the forward Kolmogorov equation given by\n",
    "\n",
    "\\begin{equation}\n",
    "\\frac{\\partial f_{\\mathbf{Y}} }{ \\partial t}= -\\frac{\\partial }{\\partial y_{\\alpha}} \\mathbf{D}^{(1)}f_{\\mathbf{Y}}  + \\frac{\\partial^{2}}{\\partial y^{2}_{\\alpha}} \\mathbf{D}^{(2)}f_{\\mathbf{Y}},\n",
    "\\end{equation}\n",
    "\n",
    "where $\\mathbf{D}^{(1)}$ arises due to diffusive fluxes at the boundary, which must be specified. In this case buoyancy forcing will produce a non-zero forcing, but there will be no forcing in $W$. The diffusion term $\\mathbf{D}^{(2)}$ can be modelled using a mutlidimensional extension of the mapping closure following (Pope, S.B. 1991) as we now show. "
   ]
  },
  {
   "attachments": {},
   "cell_type": "markdown",
   "metadata": {},
   "source": [
    "*Mapping closure*\n",
    "\n",
    "Corresponding to the random vector $\\mathbf{Y} = (Y_1,Y_2)$ we now have a vector of Gaussian random fields $\\mathbf{Z} = (Z_1,Z_2)$. The (now multidimensional) mapping $\\mathscr{Y}_{\\alpha}(-,t):\\mathbb{R}^{\\alpha} \\rightarrow \\mathbb{R}$ which maps the Gaussian field(s) to the surrogate field $\\tilde{Y}_{\\alpha}$ is hierarchical in the sense that \n",
    "\\begin{align*}\n",
    "    \\tilde{Y}_1(\\mathbf{x},t) &= \\mathscr{Y}_{1}(Z_1(J_1(t)\\mathbf{x}),t), \\\\\n",
    "    \\tilde{Y}_2(\\mathbf{x},t) &= \\mathscr{Y}_{2}(Z_1(J_1(t)\\mathbf{x}),Z_2(J_2(t)\\mathbf{x}),t),\n",
    "\\end{align*}\n",
    "such that $\\mathscr{Y}_{\\alpha}$ only depends on the subset $[\\mathbf{Z}]_{\\alpha}$"
   ]
  },
  {
   "attachments": {},
   "cell_type": "markdown",
   "metadata": {},
   "source": [
    "*Mapping equation*\n",
    "\n",
    "The mapping $\\mathscr{Y}_{\\alpha}(-,t)$ evolves according to\n",
    "\n",
    "\\begin{equation}\n",
    "\\frac{\\partial \\mathscr{Y}_{\\alpha} }{\\partial t} = \\mathbf{D}^{(1)}_{\\alpha} + \\sum_{j=1}^{\\alpha} \\frac{\\gamma_{\\alpha}}{\\tau_{j}(t)} \\left( \\frac{\\partial^{2}}{\\partial z_{j}^{2}} - z_{j}\\frac{\\partial }{ \\partial z_{j} }\\right)\\mathscr{Y}_{\\alpha},\n",
    "\\end{equation}\n",
    "\n",
    "which when expanded is given by\n",
    "\n",
    "\n",
    "\\begin{align*}\n",
    "\\frac{\\partial \\mathscr{Y}_1 }{\\partial t} &= \\mathbf{D}^{(1)}_{1} + \\frac{\\gamma_{1}}{\\tau_1(t)} \\left( \\frac{\\partial^{2}}{\\partial z_{1}^{2}} - z_1\\frac{\\partial }{ \\partial z_1 }\\right)\\mathscr{Y}_1, \\\\\n",
    "\\frac{\\partial \\mathscr{Y}_2 }{\\partial t} &= \\mathbf{D}^{(1)}_{2} + \\gamma_2 \\left[ \\frac{1}{\\tau_1(t)} \\left( \\frac{\\partial^{2}}{\\partial z_{1}^{2}} - z_1\\frac{\\partial }{ \\partial z_1 }\\right) + \\frac{1}{\\tau_2(t)} \\left( \\frac{\\partial^{2}}{\\partial z_{2}^{2}} - z_2\\frac{\\partial }{ \\partial z_2 }\\right) \\right] \\mathscr{Y}_2.\n",
    "\\end{align*}\n"
   ]
  },
  {
   "attachments": {},
   "cell_type": "markdown",
   "metadata": {},
   "source": [
    "**Setup**\n",
    "\n",
    "We first import the required libraries."
   ]
  },
  {
   "cell_type": "code",
   "execution_count": 17,
   "metadata": {},
   "outputs": [],
   "source": [
    "import numpy as np\n",
    "from scipy import sparse\n",
    "import matplotlib.pyplot as plt"
   ]
  },
  {
   "attachments": {},
   "cell_type": "markdown",
   "metadata": {},
   "source": [
    "We then continue by defining a computational grid, on which the position vector $\\mathbf{z} = (z_1,z_2)$ for the Gaussian random variables is defined.  "
   ]
  },
  {
   "cell_type": "code",
   "execution_count": 34,
   "metadata": {},
   "outputs": [],
   "source": [
    "# Time scales (cf. Taylor microscale)\n",
    "t1 = 1\n",
    "t2 = 1\n",
    "\n",
    "# Boundary conditions\n",
    "bc1 = 'Neumann'\n",
    "bc2 = 'Neumann'\n",
    "\n",
    "# Numerical resolution\n",
    "N1 = 32\n",
    "N2 = 64\n",
    "\n",
    "# Domain\n",
    "z1 = np.linspace(-3, 3, N1)\n",
    "z2 = np.linspace(-4, 4, N2)\n",
    "\n",
    "# 2d grid for gaussian random variables Y1 and Y2\n",
    "I2 = np.ones(N2)\n",
    "I1 = np.ones(N1)\n",
    "z1_2d = np.kron(z1,I2).reshape((N1,N2))\n",
    "z2_2d = np.kron(I1,z2).reshape((N1,N2))"
   ]
  },
  {
   "attachments": {},
   "cell_type": "markdown",
   "metadata": {},
   "source": [
    "*Differential operators*\n",
    "\n",
    "To define the differential operators we will use to build the previous equations right hand sides. This is done by defining the gradient and Laplacian:"
   ]
  },
  {
   "cell_type": "code",
   "execution_count": 35,
   "metadata": {},
   "outputs": [],
   "source": [
    "# Define the gradient & Laplacian operators\n",
    "def grad(x):\n",
    "  \"\"\"Gradient operator ∂/∂x\"\"\"\n",
    "  N = len(x)\n",
    "  dx= x[0] - x[1] \n",
    "  Akp1 =  np.ones(N-1)\n",
    "  Akm1 = -np.ones(N-1)\n",
    "  return sparse.diags( [Akm1,Akp1], [-1,1] )/2*dx\n",
    "\n",
    "def laplacian(x, bcs = 'Dirichlet'):\n",
    "  \"\"\"Laplacian ∂^2/∂x^2\"\"\"\n",
    "  \n",
    "  N = len(x)\n",
    "  dx= x[0] - x[1] \n",
    "\n",
    "  Akp1 = np.ones(N-1)\n",
    "  Ak0  = -2*np.ones(N)\n",
    "  Akm1 = np.ones(N-1)\n",
    "\n",
    "  if bcs == 'Neumann':\n",
    "      Akp1[0 ] = 2.0; # Use f_1     = f_-1    @ f_0\n",
    "      Akm1[-1] = 2.0; # Use f_{N+1} = f_{N-1} @ f_N\n",
    "  elif bcs == 'Dirichlet':\n",
    "      Akp1[0]  = 0.\n",
    "      Ak0[0]   = 0.; Ak0[-1] =0.\n",
    "      Akm1[-1] = 0.\n",
    "\n",
    "  return sparse.diags( [Akm1,Ak0,Akp1], [-1,0,1] )/dx**2"
   ]
  },
  {
   "attachments": {},
   "cell_type": "markdown",
   "metadata": {},
   "source": [
    "We then define the terms in the mapping equation by constructing the terms using Kronecker products as follows:"
   ]
  },
  {
   "cell_type": "code",
   "execution_count": 36,
   "metadata": {},
   "outputs": [],
   "source": [
    "# Define the 1D equation operators \n",
    "D1_1d = grad(z1)\n",
    "L1_1d = laplacian(z1, bcs = bc1)\n",
    "Z1_1d = sparse.diags([z1],[0])\n",
    "I1_1d = sparse.identity(len(z1))\n",
    "\n",
    "D2_1d = grad(z2)\n",
    "L2_1d = laplacian(z2, bcs = bc2)\n",
    "Z2_1d = sparse.diags([z2],[0])\n",
    "I2_1d = sparse.identity(len(z2))\n",
    "\n",
    "# Take Kronecker products to obtain them in 2D\n",
    "D1_2d = sparse.kron(D1_1d,I2_1d)\n",
    "L1_2d = sparse.kron(L1_1d,I2_1d)\n",
    "Z1_2d = sparse.kron(Z1_1d,I2_1d)\n",
    "\n",
    "D2_2d = sparse.kron(I1_1d,D2_1d)\n",
    "L2_2d = sparse.kron(I1_1d,L2_1d)\n",
    "Z2_2d = sparse.kron(I1_1d,Z2_1d)"
   ]
  },
  {
   "attachments": {},
   "cell_type": "markdown",
   "metadata": {},
   "source": [
    "Using the predefined terms we then construct the right hand side operators for $\\mathscr{Y}_1(z_1,t)$ and $\\mathscr{Y}_2(z_1,z_2,t)$. For now we ignore the coefficients $\\mathbf{D}^{(1)}_{\\alpha}$ and concentrate on the differential operators only."
   ]
  },
  {
   "cell_type": "code",
   "execution_count": 37,
   "metadata": {},
   "outputs": [],
   "source": [
    "# Define the RHS operator for Y_1\n",
    "L1 = (1/t1)*(L1_1d - Z1_1d@D1_1d)\n",
    "\n",
    "# Define the RHS operator for Y_2\n",
    "L2 = (1/t1)*(L1_2d - Z1_2d@D1_2d) + (1/t2)*(L2_2d - Z2_2d@D2_2d)"
   ]
  },
  {
   "attachments": {},
   "cell_type": "markdown",
   "metadata": {},
   "source": [
    "*Initial conditions & forcing*\n",
    "\n",
    "Using $\\mathbf{\\eta}$ as a dummy variable, this mapping is chosen such that the conditional cumulative distribution function satisfies\n",
    "\\begin{equation}\n",
    "  F_{\\alpha|\\alpha-1}(\\mathscr{Y}_{\\alpha}([\\mathbf{\\eta}]_{\\alpha},t), t)=G(\\eta_{\\alpha}),\n",
    "\\end{equation}\n",
    "which taking a derivative with respect to $\\eta_{\\alpha}$ implies that\n",
    "\\begin{equation}\n",
    "    f_{\\alpha|\\alpha-1}([\\mathbf{y}]_{\\alpha},t)\\frac{\\partial \\mathscr{Y}_{\\alpha}}{\\partial \\eta_{\\alpha}}\\bigg|_{\\mathbf{\\eta}}=g(\\eta_{\\alpha})>0,\n",
    "\\end{equation}\n",
    "and inturn that if the conditional density is strictly positive then $\\partial_{\\eta_{\\alpha}}\\mathscr{Y}_{\\alpha}>0$."
   ]
  },
  {
   "attachments": {},
   "cell_type": "markdown",
   "metadata": {},
   "source": [
    "To prescribe initial conditions for the mapping we make use of these relations by choosing\n",
    "\\begin{align*}\n",
    "F_1(\\tilde{y}_1) &= \\frac{1}{2} [ 1 + \\text{erf}(\\frac{y_1}{\\sigma_1 \\sqrt{2}})  ], \\\\\n",
    "F_{2|1}(\\tilde{y}_2) &= \\frac{1}{2} [ 1 + \\text{erf}(\\frac{y_2}{\\sigma_2 \\sqrt{2}})  ], \n",
    "\\end{align*}\n",
    "as these have a well defined inverse also known as the quantile function of the normal distribution and thus make it easy to invert for $\\mathscr{Y}_1, \\mathscr{Y}_2$. Implementing these relations below we calculate the initial conditions."
   ]
  },
  {
   "cell_type": "code",
   "execution_count": null,
   "metadata": {},
   "outputs": [],
   "source": [
    "from scipy.special import erf, erfinv\n",
    "\n",
    "def G(z):\n",
    "    return (1 + erf(z/np.sqrt(2)))/2\n",
    "\n",
    "def g(z):\n",
    "    return np.exp(-z**2/2)/np.sqrt(2*np.pi)\n",
    "\n",
    "# Standard deviations for initial condition\n",
    "σ1 = 4\n",
    "Y1 = (erfinv(2*G(z1) - 1)*σ1*np.sqrt(2))\n",
    "\n",
    "σ2 = 2\n",
    "Y2 = (erfinv(2*G(z2_2d) - 1)*σ2*np.sqrt(2)).flatten()\n",
    "\n",
    "# plt.plot(z1,Y1)\n",
    "# plt.show()\n",
    "\n",
    "# plt.pcolormesh(z1,z2,Y2.reshape((N1,N2)).T)\n",
    "# plt.show()"
   ]
  },
  {
   "attachments": {},
   "cell_type": "markdown",
   "metadata": {},
   "source": [
    "We then pass these initial conditions to a time-stepping routine "
   ]
  },
  {
   "cell_type": "code",
   "execution_count": null,
   "metadata": {},
   "outputs": [],
   "source": [
    "dt = 0.001\n",
    "nt = 1000\n",
    "\n",
    "def one_to_2d(Y1):\n",
    "    return np.kron(Y1,I2) \n",
    "\n",
    "for i in range(nt):\n",
    "    Y2 += (L2 @ Y2 + one_to_2d(Y1))* dt\n",
    "    Y1 +=  L1 @ Y1 * dt\n",
    "    \n",
    "    if i % 100 == 0:\n",
    "        print('time t = ',i*dt)\n",
    "        plt.plot(z1,Y1)\n",
    "        plt.show()\n",
    "\n",
    "        plt.pcolormesh(z1,z2,Y2.reshape((N1,N2)).T)\n",
    "        plt.show()"
   ]
  },
  {
   "attachments": {},
   "cell_type": "markdown",
   "metadata": {},
   "source": [
    "After computing the time-evolution of the mapping we can now recover the joint distribution $f_Y(y1, y2)$."
   ]
  },
  {
   "cell_type": "code",
   "execution_count": null,
   "metadata": {},
   "outputs": [],
   "source": [
    "f = g(z1_2d).flatten() * g(z2_2d).flatten() * (D1_2d @ Y1_0_2d)**(-1) * (D2_2d @ Y2_0_2d)**(-1)\n",
    "\n",
    "plt.contourf(unflatten(Y1_0_2d), unflatten(Y2_0_2d), unflatten(f))\n",
    "plt.colorbar()\n",
    "plt.show()\n"
   ]
  }
 ],
 "metadata": {
  "kernelspec": {
   "display_name": "dedalus3",
   "language": "python",
   "name": "python3"
  },
  "language_info": {
   "codemirror_mode": {
    "name": "ipython",
    "version": 3
   },
   "file_extension": ".py",
   "mimetype": "text/x-python",
   "name": "python",
   "nbconvert_exporter": "python",
   "pygments_lexer": "ipython3",
   "version": "3.11.0"
  },
  "orig_nbformat": 4,
  "vscode": {
   "interpreter": {
    "hash": "589404f707e0e92b82b1f57c0985e6f96586f8fb1352342a2d336ffc2faa31c7"
   }
  }
 },
 "nbformat": 4,
 "nbformat_minor": 2
}
