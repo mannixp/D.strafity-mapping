{
 "cells": [
  {
   "cell_type": "markdown",
   "metadata": {},
   "source": [
    "**Part 3 - Mapping Closure in 2D for f_ZB**\n",
    "\n",
    "This notebook implements the mapping closure developed by (Chen, H. 1989) and extended by (Pope, S.B. 1991) for a two-dimensional (2D) problem where the vector of random variables $\\mathbf{Y} = (Z,B)$ inlcues the vertical height and the buoyancy $B$.\n",
    "\n",
    "\n",
    "*Evolution equation*\n",
    "\n",
    "The joint pdf $f_{\\mathbf{Y}}$ evolves according to the forward Kolmogorov equation given by\n",
    "\n",
    "\\begin{equation}\n",
    "\\frac{\\partial f_{\\mathbf{Y}} }{ \\partial t}= -\\frac{\\partial }{\\partial y_i} \\mathbf{D}^{(1)}_i f_{\\mathbf{Y}}  + \\frac{\\partial^{2}}{\\partial y_i \\partial y_j} \\mathbf{D}^{(2)}_{ij} f_{\\mathbf{Y}},\n",
    "\\end{equation}\n",
    "\n",
    "where \n",
    "\n",
    "\\begin{equation}\n",
    "  \\mathbf{D}^{(1)}=\n",
    "  \\phi\\,\\mathbb{E}_{\\mathbf{Y}_{t}|\\partial\\Omega}\n",
    " \\begin{bmatrix}\n",
    " 0 \\\\\n",
    " \\alpha_{1}\\,\\mathbf{n}\\cdot\\nabla B_{t} \\\\\n",
    " \\end{bmatrix}\n",
    "  \\frac{f_{\\mathbf{Y}|\\partial\\Omega}}{f_{\\mathbf{Y}}} .\n",
    "\\end{equation}\n",
    "\n",
    "arises due to diffusive fluxes at the boundary, which must be specified. The diffusion term for our system us given by either\n",
    "\\begin{equation}\n",
    "  \\mathbf{D}^{(2)}=-\\alpha_{1}\n",
    "  \\mathbb{E}_{\\mathbf{Y}_{t}}\n",
    "    \\begin{bmatrix}\n",
    "    -1 & 0 \\\\\n",
    "    0 & |\\nabla B_{t}|^{2}\\\\\n",
    "  \\end{bmatrix},\n",
    "\\end{equation}\n",
    "or\n",
    "\\begin{equation}\n",
    "  \\mathbf{D}^{(2)}=-\\alpha_{1}\n",
    "  \\mathbb{E}_{\\mathbf{Y}_{t}}\n",
    "    \\begin{bmatrix}\n",
    "    0 & \\partial_Z B_t/2 \\\\\n",
    "    \\partial_Z B_t/2  & |\\nabla B_{t}|^{2}\\\\\n",
    "  \\end{bmatrix}.\n",
    "\\end{equation}\n",
    "However to avail of the mapping closure (Pope, S.B. 1991) we will use to model these terms we will make the assumption that\n",
    "\\begin{equation}\n",
    "  \\frac{\\partial^{2}}{\\partial y_i \\partial y_j} \\mathbf{D}_{ij}^{(2)} f_{\\mathbf{Y}} \\approx -\\frac{\\partial }{ \\partial y_i} \\mathbb{E}_{\\mathbf{Y}_{t}} [ \\alpha_{ij} \\nabla^{2} \\mathbf{Y}^j_{t}] f_{\\mathbf{Y}},\n",
    "\\end{equation}\n",
    "which at least for the 1D problem has been shown to be equivalent. For now we consider only the unforced system when $\\mathbf{D}^{(1)}_{i} = 0$ before later reintroducing these terms."
   ]
  },
  {
   "cell_type": "markdown",
   "metadata": {},
   "source": [
    "*Mapping closure*\n",
    "\n",
    "Corresponding to the random vector $\\mathbf{Y} = (Y_1,Y_2)$ we now have a vector of Gaussian random fields $\\mathbf{Z} = (Z_1,Z_2)$. The (now multidimensional) mapping $\\mathscr{Y}_{\\alpha}(-,t):\\mathbb{R}^{\\alpha} \\rightarrow \\mathbb{R}$ which maps the Gaussian field(s) to the surrogate field $\\tilde{Y}_{\\alpha}$ is hierarchical in the sense that \n",
    "\\begin{align*}\n",
    "    \\tilde{Y}_1(\\mathbf{x},t) &= \\mathscr{Y}_{1}(Z_1(J_1(t)\\mathbf{x}),t), \\\\\n",
    "    \\tilde{Y}_2(\\mathbf{x},t) &= \\mathscr{Y}_{2}(Z_1(J_1(t)\\mathbf{x}),Z_2(J_2(t)\\mathbf{x}),t),\n",
    "\\end{align*}\n",
    "such that $\\mathscr{Y}_{\\alpha}$ only depends on the subset $[\\mathbf{Z}]_{\\alpha}$"
   ]
  },
  {
   "cell_type": "markdown",
   "metadata": {},
   "source": [
    "*Mapping equation*\n",
    "\n",
    "The mapping $\\mathscr{Y}_{\\alpha}(-,t)$ evolves according to\n",
    "\n",
    "\\begin{equation}\n",
    "\\frac{\\partial \\mathscr{Y}_{\\alpha} }{\\partial t} = \\mathbf{D}^{(1)}_{\\alpha} + \\sum_{j=1}^{\\alpha} \\frac{\\gamma_{\\alpha}}{\\tau_{j}(t)} \\left( \\frac{\\partial^{2}}{\\partial z_{j}^{2}} - z_{j}\\frac{\\partial }{ \\partial z_{j} }\\right)\\mathscr{Y}_{\\alpha},\n",
    "\\end{equation}\n",
    "\n",
    "however for a simple domain such as a rectangular box we know that $f_Z(z;t)$ is independent of time and is given by the uniform distribution $f_Z(z;t) = 1/L_z$. This implies that $\\mathscr{Y}_1(z_1,t) = G(z_1)$, where $G$ denotes the conditional cumulative normal distribution and that we do not need to model this equation. \n",
    "\n",
    "When expanded the previous equation is therefore given by\n",
    "\n",
    "\\begin{equation}\n",
    "\\frac{\\partial \\mathscr{Y}_2 }{\\partial t} = \\gamma_2 \\left[ \\frac{1}{\\tau_1(t)} \\left( \\frac{\\partial^{2}}{\\partial z_{1}^{2}} - z_1\\frac{\\partial }{ \\partial z_1 }\\right) + \\frac{1}{\\tau_2(t)} \\left( \\frac{\\partial^{2}}{\\partial z_{2}^{2}} - z_2\\frac{\\partial }{ \\partial z_2 }\\right) \\right] \\mathscr{Y}_2,\n",
    "\\end{equation}\n",
    "with $\\tau_1(t) = 1$ as there is no stretching of this variable.\n"
   ]
  }
 ],
 "metadata": {
  "language_info": {
   "name": "python"
  }
 },
 "nbformat": 4,
 "nbformat_minor": 2
}
