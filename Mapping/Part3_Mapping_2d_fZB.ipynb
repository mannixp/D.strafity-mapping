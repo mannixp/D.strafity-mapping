{
 "cells": [
  {
   "cell_type": "markdown",
   "metadata": {},
   "source": [
    "**Part 3 - Mapping Closure in 2D for f_ZB**\n",
    "\n",
    "This notebook implements the mapping closure developed by (Chen, H. 1989) and extended by (Pope, S.B. 1991) for a two-dimensional (2D) problem where the vector of random variables $\\mathbf{Y} = (Z,B)$ inlcues the vertical height and the buoyancy $B$.\n",
    "\n",
    "\n",
    "*Evolution equation*\n",
    "\n",
    "The joint pdf $f_{\\mathbf{Y}}$ evolves according to the forward Kolmogorov equation given by\n",
    "\n",
    "\\begin{equation}\n",
    "\\frac{\\partial f_{\\mathbf{Y}} }{ \\partial t}= -\\frac{\\partial }{\\partial y_i} \\mathbf{D}^{(1)}_i f_{\\mathbf{Y}}  + \\frac{\\partial^{2}}{\\partial y_i \\partial y_j} \\mathbf{D}^{(2)}_{ij} f_{\\mathbf{Y}},\n",
    "\\end{equation}\n",
    "\n",
    "where \n",
    "\n",
    "\\begin{equation}\n",
    "  \\mathbf{D}^{(1)}=\n",
    "  \\phi\\,\\mathbb{E}_{\\mathbf{Y}_{t}|\\partial\\Omega}\n",
    " \\begin{bmatrix}\n",
    " 0 \\\\\n",
    " \\alpha_{1}\\,\\mathbf{n}\\cdot\\nabla B_{t} \\\\\n",
    " \\end{bmatrix}\n",
    "  \\frac{f_{\\mathbf{Y}|\\partial\\Omega}}{f_{\\mathbf{Y}}} .\n",
    "\\end{equation}\n",
    "\n",
    "arises due to diffusive fluxes at the boundary, which must be specified. The diffusion term for our system us given by either\n",
    "\\begin{equation}\n",
    "  \\mathbf{D}^{(2)}=-\\alpha_{1}\n",
    "  \\mathbb{E}_{\\mathbf{Y}_{t}}\n",
    "    \\begin{bmatrix}\n",
    "    -1 & 0 \\\\\n",
    "    0 & |\\nabla B_{t}|^{2}\\\\\n",
    "  \\end{bmatrix},\n",
    "\\end{equation}\n",
    "or\n",
    "\\begin{equation}\n",
    "  \\mathbf{D}^{(2)}=-\\alpha_{1}\n",
    "  \\mathbb{E}_{\\mathbf{Y}_{t}}\n",
    "    \\begin{bmatrix}\n",
    "    0 & \\partial_Z B_t/2 \\\\\n",
    "    \\partial_Z B_t/2  & |\\nabla B_{t}|^{2}\\\\\n",
    "  \\end{bmatrix}.\n",
    "\\end{equation}\n",
    "However to avail of the mapping closure (Pope, S.B. 1991) we will use to model these terms we will make the assumption that\n",
    "\\begin{equation}\n",
    "  \\frac{\\partial^{2}}{\\partial y_i \\partial y_j} \\mathbf{D}_{ij}^{(2)} f_{\\mathbf{Y}} \\approx -\\frac{\\partial }{ \\partial y_i} \\mathbb{E}_{\\mathbf{Y}_{t}} [ \\alpha_{ij} \\nabla^{2} \\mathbf{Y}^j_{t}] f_{\\mathbf{Y}},\n",
    "\\end{equation}\n",
    "which at least for the 1D problem has been shown to be equivalent. For now we consider only the unforced system when $\\mathbf{D}^{(1)}_{i} = 0$ before later reintroducing these terms."
   ]
  },
  {
   "cell_type": "markdown",
   "metadata": {},
   "source": [
    "*Mapping closure*\n",
    "\n",
    "Corresponding to the random vector $\\mathbf{Y} = (Y_1,Y_2)$ we now have a vector of Gaussian random fields $\\mathbf{Z} = (Z_1,Z_2)$. The (now multidimensional) mapping $\\mathscr{Y}_{\\alpha}(-,t):\\mathbb{R}^{\\alpha} \\rightarrow \\mathbb{R}$ which maps the Gaussian field(s) to the surrogate field $\\tilde{Y}_{\\alpha}$ is hierarchical in the sense that \n",
    "\\begin{align*}\n",
    "    \\tilde{Y}_1(\\mathbf{x},t) &= \\mathscr{Y}_{1}(Z_1(J_1(t)\\mathbf{x}),t), \\\\\n",
    "    \\tilde{Y}_2(\\mathbf{x},t) &= \\mathscr{Y}_{2}(Z_1(J_1(t)\\mathbf{x}),Z_2(J_2(t)\\mathbf{x}),t),\n",
    "\\end{align*}\n",
    "such that $\\mathscr{Y}_{\\alpha}$ only depends on the subset $[\\mathbf{Z}]_{\\alpha}$"
   ]
  },
  {
   "attachments": {},
   "cell_type": "markdown",
   "metadata": {},
   "source": [
    "*Mapping equation*\n",
    "\n",
    "The mapping $\\mathscr{Y}_{\\alpha}(-,t)$ evolves according to\n",
    "\n",
    "\\begin{equation}\n",
    "\\frac{\\partial \\mathscr{Y}_{\\alpha} }{\\partial t} = \\mathbf{D}^{(1)}_{\\alpha} + \\sum_{j=1}^{\\alpha} \\frac{\\gamma_{\\alpha}}{\\tau_{j}(t)} \\left( \\frac{\\partial^{2}}{\\partial z_{j}^{2}} - z_{j}\\frac{\\partial }{ \\partial z_{j} }\\right)\\mathscr{Y}_{\\alpha},\n",
    "\\end{equation}\n",
    "\n",
    "however for a simple domain such as a rectangular box we know that $f_Z(z;t) = 1$ is independent of time and is given by the uniform distribution. This implies that $\\mathscr{Y}_1(z_1,t) = G(z_1)$, where $G$ denotes the conditional cumulative normal distribution and that we do not need to model this equation. \n",
    "\n",
    "When expanded the previous equation is therefore given by\n",
    "\n",
    "\\begin{equation}\n",
    "\\frac{\\partial \\mathscr{Y}_2 }{\\partial t} = \\gamma_2 \\left[ \\frac{1}{\\tau_1(t)} \\left( \\frac{\\partial^{2}}{\\partial z_{1}^{2}} - z_1\\frac{\\partial }{ \\partial z_1 }\\right) + \\frac{1}{\\tau_2(t)} \\left( \\frac{\\partial^{2}}{\\partial z_{2}^{2}} - z_2\\frac{\\partial }{ \\partial z_2 }\\right) \\right] \\mathscr{Y}_2,\n",
    "\\end{equation}\n",
    "with $\\tau_1(t) = 1$ as there is no stretching of this variable.\n"
   ]
  },
  {
   "attachments": {},
   "cell_type": "markdown",
   "metadata": {},
   "source": [
    "**Setup**\n",
    "\n",
    "We first import the required libraries."
   ]
  },
  {
   "cell_type": "code",
   "execution_count": 1,
   "metadata": {},
   "outputs": [],
   "source": [
    "import numpy as np\n",
    "import matplotlib.pyplot as plt"
   ]
  },
  {
   "attachments": {},
   "cell_type": "markdown",
   "metadata": {},
   "source": [
    "For the mapping eqution we define a computational grid, on which the position vector $\\mathbf{z} = (z_1,z_2)$ for the Gaussian random variables is defined.  "
   ]
  },
  {
   "cell_type": "code",
   "execution_count": 2,
   "metadata": {},
   "outputs": [],
   "source": [
    "# Time scales (cf. Taylor microscale)\n",
    "t1 = 1\n",
    "t2 = 1\n",
    "\n",
    "# Boundary conditions\n",
    "bc1 = 'Neumann'\n",
    "bc2 = 'Neumann'\n",
    "\n",
    "# Numerical resolution\n",
    "N1 =64\n",
    "N2 =64\n",
    "\n",
    "# Domain\n",
    "z1 = np.linspace(-4, 4, N1)\n",
    "z2 = np.linspace(-4, 4, N2)\n",
    "\n",
    "# 2d grid for gaussian random variables Y1 and Y2\n",
    "I2 = np.ones(N2)\n",
    "I1 = np.ones(N1)\n",
    "z1_2d = np.kron(z1,I2).reshape((N1,N2))\n",
    "z2_2d = np.kron(I1,z2).reshape((N1,N2))"
   ]
  },
  {
   "attachments": {},
   "cell_type": "markdown",
   "metadata": {},
   "source": [
    "*Differential operators*\n",
    "\n",
    "To define the differential operators in the equations right hand sides we first define the gradient and Laplacian operators:"
   ]
  },
  {
   "cell_type": "code",
   "execution_count": 4,
   "metadata": {},
   "outputs": [],
   "source": [
    "# Define the gradient & Laplacian operators\n",
    "def grad(x):\n",
    "  \"\"\"Gradient operator ∂/∂x\"\"\"\n",
    "  N = len(x)\n",
    "  dx= x[1] - x[0] \n",
    "  D = np.zeros((N,N))\n",
    "  for i in range(N):\n",
    "    if i < N-1:\n",
    "      D[i,i+1] = 1\n",
    "    if i > 0:\n",
    "      D[i,i-1] =-1\n",
    "  return D/(2*dx)\n",
    "\n",
    "def laplacian(x, bcs = 'Dirichlet'):\n",
    "  \"\"\"Laplacian ∂^2/∂x^2\"\"\"\n",
    "  \n",
    "  N = len(x)\n",
    "  dx= x[1] - x[0] \n",
    "\n",
    "  L = np.zeros((N,N))\n",
    "  for i in range(N):\n",
    "\n",
    "    L[i,i] = -2.\n",
    "    if i ==N-1:\n",
    "      if bcs == 'Dirichlet':\n",
    "        L[i,i-1] = 1\n",
    "      elif bcs == 'Neumann':\n",
    "        L[i,i-1] = 2\n",
    "    elif i == 0:\n",
    "      if bcs == 'Dirichlet':\n",
    "        L[i,i+1] = 1\n",
    "      elif bcs == 'Neumann':\n",
    "        L[i,i+1] = 2\n",
    "    else:\n",
    "      L[i,i-1] = 1\n",
    "      L[i,i+1] = 1\n",
    "\n",
    "  return L/(dx**2)\n",
    "\n",
    "def test_derivatives():\n",
    "  \"\"\"Check the derivatives are correctly implemented\"\"\"\n",
    "  \n",
    "  x = np.linspace(0, 2*np.pi, 256)\n",
    "  \n",
    "  D = grad(x)\n",
    "  error_D = ( np.cos(x)[1:-1] - D.dot(np.sin(x))[1:-1])**2\n",
    "  assert np.trapz(y=error_D,x=x[1:-1]) < 1e-07\n",
    "\n",
    "  L = laplacian(x)\n",
    "  error_L = (-np.sin(x)[1:-1] - L.dot(np.sin(x))[1:-1])**2\n",
    "  assert np.trapz(y=error_L,x=x[1:-1]) < 1e-07\n",
    "\n",
    "  return None\n",
    "\n",
    "test_derivatives()"
   ]
  },
  {
   "attachments": {},
   "cell_type": "markdown",
   "metadata": {},
   "source": [
    "Using these operators the terms in the mapping equation are constructed using Kronecker products:"
   ]
  },
  {
   "cell_type": "code",
   "execution_count": 5,
   "metadata": {},
   "outputs": [],
   "source": [
    "# Define the 1D equation operators \n",
    "D1_1d = grad(z1)\n",
    "L1_1d = laplacian(z1, bcs = bc1)\n",
    "Z1_1d = np.diag(z1)\n",
    "I1_1d = np.eye(N1)\n",
    "\n",
    "D2_1d = grad(z2)\n",
    "L2_1d = laplacian(z2, bcs = bc2)\n",
    "Z2_1d = np.diag(z2)\n",
    "I2_1d = np.eye(N2)\n",
    "\n",
    "# Take Kronecker products to obtain them in 2D\n",
    "D1_2d = np.kron(D1_1d,I2_1d)\n",
    "L1_2d = np.kron(L1_1d,I2_1d)\n",
    "Z1_2d = np.kron(Z1_1d,I2_1d)\n",
    "\n",
    "D2_2d = np.kron(I1_1d,D2_1d)\n",
    "L2_2d = np.kron(I1_1d,L2_1d)\n",
    "Z2_2d = np.kron(I1_1d,Z2_1d)"
   ]
  },
  {
   "attachments": {},
   "cell_type": "markdown",
   "metadata": {},
   "source": [
    "These are then assembled to make the right hand side operator for $\\mathscr{Y}_2(z_1,z_2,t)$. For now we ignore the coefficients $\\mathbf{D}^{(1)}_{\\alpha}$ and concentrate on the differential operators only."
   ]
  },
  {
   "cell_type": "code",
   "execution_count": 6,
   "metadata": {},
   "outputs": [],
   "source": [
    "# Define the RHS operator for Y_2\n",
    "L2 = (1/t1)*(L1_2d - Z1_2d@D1_2d) + (1/t2)*(L2_2d - Z2_2d@D2_2d)"
   ]
  },
  {
   "attachments": {},
   "cell_type": "markdown",
   "metadata": {},
   "source": [
    "*Initial conditions & forcing*\n",
    "\n",
    "Using $\\mathbf{\\eta}$ as a dummy variable, this mapping is chosen such that the conditional cumulative distribution function satisfies\n",
    "\\begin{equation}\n",
    "  F_{\\alpha|\\alpha-1}(\\mathscr{Y}_{\\alpha}([\\mathbf{z}]_{\\alpha},t), t)=G(z_{\\alpha}),\n",
    "\\end{equation}\n",
    "which taking a derivative with respect to $\\eta_{\\alpha}$ implies that\n",
    "\\begin{equation}\n",
    "    f_{\\alpha|\\alpha-1}([\\mathbf{y}]_{\\alpha},t)\\frac{\\partial \\mathscr{Y}_{\\alpha}}{\\partial z_{\\alpha}}\\bigg|_{\\mathbf{z}}=g(z_{\\alpha})>0,\n",
    "\\end{equation}\n",
    "and inturn that if the conditional density is strictly positive then $\\partial_{\\eta_{\\alpha}}\\mathscr{Y}_{\\alpha}>0$."
   ]
  },
  {
   "attachments": {},
   "cell_type": "markdown",
   "metadata": {},
   "source": [
    "To prescribe an initial condition for the mapping we make use of these relations by choosing the conditional cumulative distribution function specified in terms of an error function\n",
    "\\begin{equation}\n",
    "F_{2|1}(\\tilde{y}_2) = \\frac{1}{2} [ 1 + \\text{erf}(\\frac{y_2}{\\sigma_2 \\sqrt{2}})  ], \n",
    "\\end{equation}\n",
    "as this function has a well defined inverse also known as the quantile function of the normal distribution and thus makes it easy to invert for $\\mathscr{Y}_2$. Implementing this relation below we calculate the initial condition."
   ]
  },
  {
   "cell_type": "code",
   "execution_count": 7,
   "metadata": {},
   "outputs": [],
   "source": [
    "from scipy.special import erf, erfinv\n",
    "\n",
    "def G(z):\n",
    "    return (1 + erf(z/np.sqrt(2)))/2\n",
    "\n",
    "def g(z):\n",
    "    return np.exp(-z**2/2)/np.sqrt(2*np.pi)"
   ]
  },
  {
   "attachments": {},
   "cell_type": "markdown",
   "metadata": {},
   "source": [
    "To recover the joint distribution $f_\\mathbf{Y}(y1, y2)$ from the mapping we then make use of the second relation above.This is achieved by relating the mapping to the pdf of the Gaussian random variables for\n",
    "\\begin{align*}\n",
    "    \\frac{\\partial \\mathscr{Y}_1}{\\partial \\eta_1} f_{Y_1}( \\mathscr{Y}_1(y_1,t), t) &= g(\\eta_1), \\\\\n",
    "    \\frac{\\partial \\mathscr{Y}_1}{\\partial \\eta_1} & = g(\\eta_1)\n",
    "\\end{align*}\n",
    "and\n",
    "\\begin{equation}\n",
    "    \\frac{\\partial \\mathscr{Y}_2}{\\partial \\eta_2} f_{Y_2|Y_1}( \\mathscr{Y}_1(y_1,t), \\mathscr{Y}_2(y_1,y_2,t), t) = g(\\eta_2),\n",
    "\\end{equation}\n",
    "and then by inverting $\\frac{\\partial \\mathscr{Y}_1}{\\partial \\eta_1}$ and $\\frac{\\partial \\mathscr{Y}_2}{\\partial \\eta_2}$ on to the right hand side we recover $f_{Y_1}$ and $f_{Y_2|Y_1}$. The joint desnity is then readily obtained by multiplying these distributions\n",
    "\\begin{equation}\n",
    "f_\\mathbf{Y}(y1, y2) = f_{Y_2|Y_1}(y1, y2) f_{Y_1}(y_1),\n",
    "\\end{equation}\n",
    "as implemented below along with plotting routines to show the mapping and to show the joint distribution."
   ]
  },
  {
   "cell_type": "code",
   "execution_count": 21,
   "metadata": {},
   "outputs": [],
   "source": [
    "# plt.rcParams.update(\n",
    "#     {\"text.usetex\": True, \n",
    "#      \"font.family\": \"sans-serif\", \n",
    "#      \"font.sans-serif\": \"Helvetica\",\n",
    "#       'text.latex.preamble': r'\\usepackage{amsfonts}'\n",
    "#      })\n",
    "\n",
    "# Make the Y1 mapping 2D\n",
    "def one_to_2d(Y1):\n",
    "    return np.kron(Y1,I2) \n",
    "\n",
    "# Produce the joint pdf and all its marginals from the mapping\n",
    "def map_to_pdf(z1,Y1,z2_2d,Y2):\n",
    "\n",
    "    # Invert the mappings\n",
    "    dY1_dη1 = g(z1) #= D1_1d@Y1 \n",
    "    dY2_dη2 = D2_2d@Y2\n",
    "\n",
    "    # Gaussian distribution\n",
    "    g_1 = g(z1)\n",
    "    g_2 = g(z2_2d).flatten()\n",
    "\n",
    "    # Conditional pdfs\n",
    "    fc_1 = g_1/dY1_dη1 # vector size N1\n",
    "    fc_2 = g_2/dY2_dη2 # vector size N1*N2\n",
    "\n",
    "    # Compute the marginal pdfs f_1,f_2\n",
    "    f_1   = fc_1\n",
    "    y1_1d = Y1\n",
    "    assert (1 - np.trapz(y=f_1,x=y1_1d))**2 < 1e-03\n",
    "\n",
    "    # f_2   = \n",
    "    # y2_1d = \n",
    "    # assert (1 - np.trapz(y=f_2,x=y2_1d))**2 < 1e-03\n",
    "\n",
    "    # Compute the joint distribution f_12\n",
    "    fj_12 = (fc_2*one_to_2d(fc_1)).reshape((N1,N2))\n",
    "\n",
    "    # Compute the 2d grids\n",
    "    y1_2d = one_to_2d(Y1).reshape((N1,N2))\n",
    "    y2_2d = Y2.reshape((N1,N2))\n",
    "\n",
    "    return y1_1d,f_1, y1_2d,y2_2d,fj_12\n",
    "\n",
    "# Plot the mapping time-evolution\n",
    "def plot_mapping(z1,Y1, z1_2d,z2_2d,Y2):\n",
    "    \"\"\"Plot the mapping components.\"\"\"\n",
    "    fig = plt.figure(figsize=(6,4),layout='constrained')\n",
    "\n",
    "    ax1 = fig.add_subplot(1, 2, 1,projection=\"3d\")  # equivalent but more general\n",
    "    ax2 = fig.add_subplot(1, 2, 2)  # equivalent but more general\n",
    "\n",
    "    # 2D plot for Y2\n",
    "    surf = ax1.plot_surface(z1_2d,z2_2d, Y2.reshape((N1,N2)), cmap='RdBu',linewidth=0, antialiased=False)\n",
    "    #fig.colorbar(surf, shrink=0.5, aspect=5,orientation='horizontal')\n",
    "    ax1.set_title(r'$Y_2$')\n",
    "    ax1.set_xlabel(r'$z_1$')\n",
    "    ax1.set_ylabel(r'$z_2$')\n",
    "\n",
    "    # 1D plot for Y1\n",
    "    ax2.set_title(r'$Y_1$')\n",
    "    ax2.plot(z1,Y1)\n",
    "    ax2.set_xlabel(r'$z_1$')\n",
    "\n",
    "    plt.show()\n",
    "\n",
    "    return None\n",
    "\n",
    "# plot the joint density\n",
    "def plot_joint(y1_1d,f_1, y1_2d,y2_2d,f_12):\n",
    "    \"\"\"Plot the mapping components.\"\"\"\n",
    "    fig = plt.figure(figsize=(6,4),layout='constrained')\n",
    "\n",
    "    ax1 = fig.add_subplot(1, 3, 1)\n",
    "\n",
    "    # 2D plot for Y2\n",
    "    # array C with shape (nrows, ncolumns) is plotted with the column number as X and the row number as Y\n",
    "    # pc=ax1.pcolormesh(y1_2d,y2_2d,f_12, cmap='Reds')#,linewidth=0, antialiased=False)\n",
    "    # ax1.set_xlabel(r'$y_1$')\n",
    "    # ax1.set_ylabel(r'$y_2$')\n",
    "    # fig.colorbar(pc)\n",
    "\n",
    "    pc=ax1.pcolormesh(y1_2d,y2_2d,f_12, cmap='Reds')#,linewidth=0, antialiased=False)\n",
    "    ax1.set_xlabel(r'$z$')\n",
    "    ax1.set_ylabel(r'$b$')\n",
    "    fig.colorbar(pc)\n",
    "\n",
    "    ax2 = fig.add_subplot(1, 3, 2) \n",
    "    \n",
    "    #ax2.plot(y1_1d,f_1)\n",
    "    #ax2.set_xlabel(r'$y_1$')\n",
    "    #ax2.set_ylabel(r'$f_{Y_1}$')\n",
    "\n",
    "    ax2.plot(y1_1d,f_1)\n",
    "    ax2.set_xlabel(r'$z$')\n",
    "    ax2.set_ylabel(r'$f_{Z}$')\n",
    "\n",
    "    # ax3 = fig.add_subplot(1, 3, 3)\n",
    "    # f_2 = np.zeros(N2)\n",
    "    # for j in range(N2):\n",
    "    #     f_2[j] = np.trapezoid(y=f_12[:,j],x=y1[:,j])\n",
    "    # ax3.plot(y2[0,:],f_2)\n",
    "    # ax3.set_xlabel(r'$y_2$')\n",
    "    # ax3.set_ylabel(r'$f_{Y_2}$')\n",
    "\n",
    "    plt.show()\n",
    "\n",
    "    return None"
   ]
  },
  {
   "attachments": {},
   "cell_type": "markdown",
   "metadata": {},
   "source": [
    "We then pass these initial conditions to a time-stepping routine, and time-integrate forwards one time unit. "
   ]
  },
  {
   "cell_type": "code",
   "execution_count": 24,
   "metadata": {},
   "outputs": [
    {
     "name": "stdout",
     "output_type": "stream",
     "text": [
      "time t =  0.0\n"
     ]
    },
    {
     "name": "stderr",
     "output_type": "stream",
     "text": [
      "/tmp/ipykernel_39716/3016694323.py:83: UserWarning: The input coordinates to pcolormesh are interpreted as cell centers, but are not monotonically increasing or decreasing. This may lead to incorrectly calculated cell edges, in which case, please supply explicit cell edges to pcolormesh.\n",
      "  pc=ax1.pcolormesh(y1_2d,y2_2d,f_12, cmap='Reds')#,linewidth=0, antialiased=False)\n"
     ]
    },
    {
     "data": {
      "image/png": "[encoded data removed]",
      "text/plain": [
       "<Figure size 600x400 with 3 Axes>"
      ]
     },
     "metadata": {},
     "output_type": "display_data"
    },
    {
     "name": "stdout",
     "output_type": "stream",
     "text": [
      "time t =  0.25\n"
     ]
    },
    {
     "data": {
      "image/png": "[encoded data removed]",
      "text/plain": [
       "<Figure size 600x400 with 3 Axes>"
      ]
     },
     "metadata": {},
     "output_type": "display_data"
    },
    {
     "name": "stdout",
     "output_type": "stream",
     "text": [
      "time t =  0.5\n"
     ]
    },
    {
     "data": {
      "image/png": "[encoded data removed]",
      "text/plain": [
       "<Figure size 600x400 with 3 Axes>"
      ]
     },
     "metadata": {},
     "output_type": "display_data"
    },
    {
     "name": "stdout",
     "output_type": "stream",
     "text": [
      "time t =  0.75\n"
     ]
    },
    {
     "data": {
      "image/png": "[encoded data removed]",
      "text/plain": [
       "<Figure size 600x400 with 3 Axes>"
      ]
     },
     "metadata": {},
     "output_type": "display_data"
    }
   ],
   "source": [
    "# Standard deviations for initial condition\n",
    "Y1 = G(z1)\n",
    "\n",
    "σ2 = 1\n",
    "Y2 = (erfinv(2*G(z2_2d) - 1)*σ2*np.sqrt(2)).flatten()\n",
    "\n",
    "dt = 0.001\n",
    "nt = 1000\n",
    "\n",
    "for i in range(nt):\n",
    "    Y2 +=  L2 @ Y2 * dt\n",
    "    \n",
    "    if i % (nt/4) == 0:\n",
    "        print('time t = ',i*dt)\n",
    "        #plot_mapping(z1,Y1, z1_2d,z2_2d,Y2)\n",
    "        OUT = map_to_pdf(z1,Y1, z2_2d,Y2)\n",
    "        plot_joint(*OUT)"
   ]
  },
  {
   "attachments": {},
   "cell_type": "markdown",
   "metadata": {},
   "source": [
    "The time evolution shows that the systems variance shrinks uniformly in $z_2$ (or equivalently $b$) as the diffusive terms mix the contents of the domain but their is no forcing to prevent the destruction of buoyancy variance.\n",
    "\n",
    "To account for this we now include the diffusive fluxes which for our system appear as forcing terms\n",
    "\n",
    "\\begin{equation}\n",
    "\\frac{\\partial \\mathscr{Y}_2 }{\\partial t} = \\mathbf{D}^{(1)}_{2} + \\gamma_2 \\left[ \\frac{1}{\\tau_1(t)} \\left( \\frac{\\partial^{2}}{\\partial z_{1}^{2}} - z_1\\frac{\\partial }{ \\partial z_1 }\\right) + \\frac{1}{\\tau_2(t)} \\left( \\frac{\\partial^{2}}{\\partial z_{2}^{2}} - z_2\\frac{\\partial }{ \\partial z_2 }\\right) \\right] \\mathscr{Y}_2.\n",
    "\\end{equation}\n",
    "\n",
    "which in the form of our forward Kolmogorov equation are given by \n",
    "\n",
    "\\begin{equation}\n",
    "  \\mathbf{D}^{(1)}_2 =\n",
    "  \\phi\\,\\mathbb{E}_{\\mathbf{Y}_{t}|\\partial\\Omega} \\left[ \\alpha_{1}\\,\\mathbf{n}\\cdot\\nabla Y^1_t \\right] \\frac{f_{\\mathbf{Y}|\\partial\\Omega}}{f_{\\mathbf{Y}}}.\n",
    "\\end{equation}"
   ]
  },
  {
   "attachments": {},
   "cell_type": "markdown",
   "metadata": {},
   "source": [
    "To generate $\\mathbf{D}^{(1)}_2$ we ??"
   ]
  },
  {
   "cell_type": "code",
   "execution_count": null,
   "metadata": {},
   "outputs": [],
   "source": [
    "# Initial condition\n",
    "Y1 = G(z1)\n",
    "\n",
    "σ2 = 1\n",
    "Y2 = (erfinv(2*G(z2_2d) - 1)*σ2*np.sqrt(2)).flatten()\n",
    "\n",
    "\n",
    "F1 = 0*Y2 # (z_1, z_2) or (z,b)\n",
    "\n",
    "\n",
    "\n",
    "F1\n",
    "\n",
    "dt = 0.001\n",
    "nt = 1000\n",
    "\n",
    "for i in range(nt):\n",
    "    Y2 += F1*dt   +   L2 @ Y2* dt    \n",
    "    \n",
    "    if i % (nt/10) == 0:\n",
    "        print('time t = ',i*dt)\n",
    "        #plot_mapping(z1,Y1, z1_2d,z2_2d,Y2)\n",
    "        OUT = map_to_pdf(z1,Y1, z2_2d,Y2)\n",
    "        plot_joint(*OUT)"
   ]
  }
 ],
 "metadata": {
  "kernelspec": {
   "display_name": "D*stratify",
   "language": "python",
   "name": "python3"
  },
  "language_info": {
   "codemirror_mode": {
    "name": "ipython",
    "version": 3
   },
   "file_extension": ".py",
   "mimetype": "text/x-python",
   "name": "python",
   "nbconvert_exporter": "python",
   "pygments_lexer": "ipython3",
   "version": "3.10.8"
  },
  "vscode": {
   "interpreter": {
    "hash": "72e7303ca26bc62ca7c9987927bcca5087bad2db8a6d732cefb1603e02c0ba41"
   }
  }
 },
 "nbformat": 4,
 "nbformat_minor": 2
}
