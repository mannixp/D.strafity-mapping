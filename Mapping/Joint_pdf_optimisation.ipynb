{
 "cells": [
  {
   "cell_type": "markdown",
   "metadata": {},
   "source": [
    "**Recovering a joint PDF from its marginal distributions**\n",
    "\n",
    "Given the PDFs $f_X$ and $f_Y$ as well as the correlation of their random variables $\\mathbb{E}[XY] = C$, we wish to calculate the joint PDF $f_{XY}$. As there exists multiple joint distributions whose marginals are given by $f_X, f_Y$ and have the correlation $\\mathbb{E}[XY] = C$ we choose to select the joint PDF which maximises the entropy. This distribution is given by minimising negative entropy (equivalent to maximising entropy)\n",
    "\n",
    "\\begin{align*}\n",
    "\\mathcal{L} = & \\iint f_{XY}(x,y) log\\left( f_{XY}(x,y) \\right) \\, dxdy \\\\\n",
    "              & + \\alpha \\left( \\iint f_{XY}(x,y) dxdy - 1 \\right) \\\\\n",
    "              & + \\lambda \\left( \\iint xy f_{XY}(x,y) dxdy - c \\right) \\\\\n",
    "              & + \\int \\mu_X(x) \\left( \\int f_{XY}(x,y) dy - f_X(x) \\right) dx \\\\\n",
    "              & + \\int \\mu_Y(y) \\left( \\int f_{XY}(x,y) dx - f_Y(y) \\right) dy,\n",
    "\\end{align*}\n",
    "\n",
    "where $\\alpha,\\lambda, \\mu_X, \\mu_Y$ are Lagrange multipliers which must be determined by imposing the constraints. Taking variations with respect to the Lagrange multipliers provides the four constraints we wish to impose i.e. the joint PDF sums to unity, its covariance equals $c$ and its marginals are equal to those we supply. Taking variations with respect to $f_{XY}$ provides the gradient\n",
    "\n",
    "\\begin{equation*}\n",
    "\\frac{\\delta \\mathcal{L}}{\\delta f_{XY}} = \\left( 1 + log(f_{XY}(x,y)) \\right) + \\alpha + \\lambda xy + \\mu_X(x) + \\mu_Y(y).\n",
    "\\end{equation*}\n",
    "\n",
    "As $0 \\geq f_{XY} \\leq 1$ because it is a probability, in the definition of entropy we must multiply by $-1$ to compensate for $log f_{XY}$ being negative i.e. $S = -\\iint f_{XY}(x,y) log\\left( f_{XY}(x,y) \\right) \\, dxdy \\geq 0$."
   ]
  },
  {
   "cell_type": "markdown",
   "metadata": {},
   "source": [
    "To solve this problem we will use the sequential least sqaures quadratic programming (SLSQP) optimiser, to which we will pass the gradient as defined above and the four consraints\n",
    "\n",
    "\\begin{align*}\n",
    "\\frac{\\delta \\mathcal{L}}{\\delta \\alpha } &= \\iint f_{XY}(x,y) dxdy - 1 = 0, \\\\\n",
    "\\frac{\\delta \\mathcal{L}}{\\delta \\lambda} &= \\iint xy f_{XY}(x,y) dxdy - c  = 0, \\\\\n",
    "\\frac{\\delta \\mathcal{L}}{\\delta \\mu_X  } &= \\int f_{XY}(x,y) dy - f_X(x) = 0, \\\\\n",
    "\\frac{\\delta \\mathcal{L}}{\\delta \\mu_Y  } &= \\int f_{XY}(x,y) dx - f_Y(y) = 0,\n",
    "\\end{align*}\n",
    "\n",
    "enabling us to determine $\\alpha,\\lambda, \\mu_X, \\mu_Y$ and hence $\\frac{\\delta \\mathcal{L}^n}{\\delta f_{XY}}$ at a given iteration $n$. The optimiser will then iteratively update the joint PDF starting from our initial guess $f^{n=0}_{XY}$ according to the rule\n",
    "\n",
    "\\begin{equation}\n",
    "f^{n+1}_{XY} = f^{n}_{XY} - \\epsilon \\frac{\\delta \\mathcal{L}^n}{\\delta f_{XY}},\n",
    "\\end{equation}\n",
    "\n",
    "where $\\epsilon^n$ is the step-size selected at each iteration by the optimiser and the $(-)$ sign follows from the fact we are minimising the negative entropy.\n"
   ]
  },
  {
   "cell_type": "code",
   "execution_count": 13,
   "metadata": {},
   "outputs": [
    {
     "name": "stderr",
     "output_type": "stream",
     "text": [
      "/tmp/ipykernel_8723/4028247537.py:26: RuntimeWarning: invalid value encountered in log\n",
      "  L    = np.sum(f_XY*np.log(f_XY))*dx*dy\n"
     ]
    },
    {
     "name": "stdout",
     "output_type": "stream",
     "text": [
      " message: Optimization terminated successfully\n",
      " success: True\n",
      "  status: 0\n",
      "     fun: -1.4484062104943622\n",
      "       x: [ 1.548e-02  8.516e-03 ...  1.081e-02  6.981e-03]\n",
      "     nit: 109\n",
      "     jac: [-3.888e+00 -3.506e+00 ... -3.860e+00 -3.221e+00]\n",
      "    nfev: 327\n",
      "    njev: 109\n"
     ]
    },
    {
     "data": {
      "image/png": "[encoded data removed]",
      "text/plain": [
       "<Figure size 640x480 with 1 Axes>"
      ]
     },
     "metadata": {},
     "output_type": "display_data"
    }
   ],
   "source": [
    "from scipy.optimize import minimize\n",
    "import matplotlib.pyplot as plt\n",
    "import numpy as np\n",
    "\n",
    "Nx = 30\n",
    "Ny = 15\n",
    "\n",
    "# Define an x,y grid\n",
    "x, dx = np.linspace(-3, 3, num=Nx, retstep=True) \n",
    "y, dy = np.linspace(0, 1, num=Ny, retstep=True) \n",
    "X = np.kron(x, np.ones(Ny))\n",
    "Y = np.kron(np.ones(Nx), y)\n",
    "\n",
    "# Define f_X, f_Y & c\n",
    "f_X = np.exp(-x**2/2)/np.sqrt(2*np.pi)\n",
    "f_Y = np.ones(Ny)\n",
    "c   = 0.1\n",
    "\n",
    "# Define initial f_XY \n",
    "f_XY_0 = np.kron(f_X, f_Y)\n",
    "\n",
    "# Define our objective function to be minimised\n",
    "def obj_fun(f_XY):#, α, λ, μ_X, μ_Y): \n",
    "    \n",
    "    f_XY = f_XY.reshape((Nx,Ny))\n",
    "    L    = np.sum(f_XY*np.log(f_XY))*dx*dy \n",
    "    \n",
    "    return L\n",
    "\n",
    "# Define the gradient\n",
    "def grad_fun(f_XY):\n",
    "    \n",
    "    I = np.ones(Nx*Ny)\n",
    "    dL= I + np.log(f_XY)    \n",
    "    \n",
    "    return dL\n",
    "\n",
    "from scipy.optimize import NonlinearConstraint as NLC\n",
    "\n",
    "# Define the constraints\n",
    "def con_density(f_XY):\n",
    "    #Superfulos condition if the other two are imposed\n",
    "    return np.sum(f_XY)*dx*dy - 1\n",
    "\n",
    "def con_covariance(f_XY):\n",
    "    return np.sum(X*Y*f_XY)*dx*dy - c\n",
    "\n",
    "def con_marginal_X(f_XY):\n",
    "    return (np.sum(f_XY.reshape((Nx,Ny)), axis=1)*dy) - f_X\n",
    "\n",
    "def con_marginal_Y(f_XY):\n",
    "    return (np.sum(f_XY.reshape((Nx,Ny)), axis=0)*dx) - f_Y\n",
    "\n",
    "cons = [NLC(con_covariance,0,0), NLC(con_marginal_X,0,0)]#, NLC(con_marginal_Y,0,0)] #, NLC(con_marginal_Y,0,0)] # NLC(con_density,0,0), \n",
    "\n",
    "\n",
    "# Call the minimiser\n",
    "res = minimize(fun=obj_fun, x0=f_XY_0, args = (), method='SLSQP', jac = grad_fun, constraints = cons, tol=1e-01, options = {'maxiter':200, 'disp':False} )\n",
    "\n",
    "print(res)\n",
    "f_XY = res.x.reshape((Nx,Ny))\n",
    "plt.pcolormesh(f_XY)\n",
    "plt.show()"
   ]
  }
 ],
 "metadata": {
  "kernelspec": {
   "display_name": "Localised",
   "language": "python",
   "name": "python3"
  },
  "language_info": {
   "codemirror_mode": {
    "name": "ipython",
    "version": 3
   },
   "file_extension": ".py",
   "mimetype": "text/x-python",
   "name": "python",
   "nbconvert_exporter": "python",
   "pygments_lexer": "ipython3",
   "version": "3.11.10"
  }
 },
 "nbformat": 4,
 "nbformat_minor": 2
}
