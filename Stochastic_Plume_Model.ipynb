{
  "nbformat": 4,
  "nbformat_minor": 0,
  "metadata": {
    "colab": {
      "provenance": [],
      "include_colab_link": true
    },
    "kernelspec": {
      "name": "python3",
      "display_name": "Python 3"
    },
    "language_info": {
      "name": "python"
    }
  },
  "cells": [
    {
      "cell_type": "markdown",
      "metadata": {
        "id": "view-in-github",
        "colab_type": "text"
      },
      "source": [
        "<a href=\"https://colab.research.google.com/github/mannixp/Plumes/blob/main/Stochastic_Plume_Model.ipynb\" target=\"_parent\"><img src=\"https://colab.research.google.com/assets/colab-badge.svg\" alt=\"Open In Colab\"/></a>"
      ]
    },
    {
      "cell_type": "markdown",
      "source": [
        "We load the neccessary libraries, specifiy the domain $z \\in [0,1]$ and the differentiation matrices $D = d/dz$ and $L = d^2/dz^2$."
      ],
      "metadata": {
        "id": "1sJAs2EHLKZV"
      }
    },
    {
      "cell_type": "code",
      "source": [
        "from scipy.integrate   import solve_ivp\n",
        "from scipy.ndimage     import gaussian_filter\n",
        "from scipy.interpolate import interp1d\n",
        "import numpy as np\n",
        "import matplotlib.pyplot as plt\n",
        "import numba as nb\n",
        "\n",
        "ε    = 1e-12\n",
        "Npts = 64\n",
        "\n",
        "z = np.linspace(0+ε,1-ε,Npts)\n",
        "\n",
        "I = np.eye(Npts) # I\n",
        "D = np.zeros((Npts,Npts)) # D = d/dz\n",
        "L = np.zeros((Npts,Npts)) # L = d2/dz2\n",
        "for i,z_i in enumerate(z):\n",
        "\n",
        "    if i == 0:\n",
        "      #D\n",
        "      D[i,i+1] =  1\n",
        "\n",
        "      #L\n",
        "      L[i,i  ] = -2\n",
        "      L[i,i+1] =  2 # if db/dz = 0\n",
        "    elif i == Npts-1:\n",
        "      #D\n",
        "      D[i,i-1] = -1\n",
        "\n",
        "      # L\n",
        "      L[i,i-1] =  2 # if db/dz = 0\n",
        "      L[i,i  ] = -2\n",
        "    else:\n",
        "      # D\n",
        "      D[i,i-1] = -1\n",
        "      D[i,i+1] =  1\n",
        "\n",
        "      # L\n",
        "      L[i,i-1] =  1\n",
        "      L[i,i  ] = -2\n",
        "      L[i,i+1] =  1\n",
        "\n",
        "dz = z[1] - z[0]\n",
        "L /= dz**2\n",
        "D /= 2*dz"
      ],
      "metadata": {
        "id": "rZ_fWmFlq8Tu"
      },
      "execution_count": 1,
      "outputs": []
    },
    {
      "cell_type": "markdown",
      "source": [
        "From the plume equations\n",
        "\\begin{align*}\n",
        "\\frac{dF}{dz} &= -\\frac{d b}{d z} Q, \\\\\n",
        "\\frac{dQ}{dz} &= \\frac{Q}{z} + \\frac{3^4}{2^6} \\frac{\\delta^4 \\pi^2 z^4}{Q^2} F, \\\\\n",
        "\\end{align*}\n",
        "where $F(z)$ and $Q(z)$ are the horizontally averaged (steady) buoyancy flux and volume flux respectively. This model contains two free parameters the Buoyancy frequency $N^2(z) = \\frac{d b}{d z}$ which characterises the background vertical stratification and the dimensionless turbulence production coefficient $\\delta < 0$. These equations are implemented below."
      ],
      "metadata": {
        "id": "qtks0ti0fMvo"
      }
    },
    {
      "cell_type": "code",
      "source": [
        "@nb.njit()\n",
        "def plume_eqns(z,X,z_i,dbdz_i,plume_type,δ=-0.25):\n",
        "\n",
        "    \"\"\"\n",
        "    F,Q  = X\n",
        "    \"\"\"\n",
        "\n",
        "    dX    = 0*X\n",
        "    if plume_type == \"Rise\":\n",
        "      dX[0] = -np.interp(z,z_i,dbdz_i)*X[1];\n",
        "    elif plume_type == \"Sink\":\n",
        "      dX[0] = -np.interp(1-z,z_i,dbdz_i)*X[1];\n",
        "\n",
        "    dX[1] = X[1]/z + ((3**4)/(2**6))*( ((z**4)*(δ**4)*(np.pi**2))/(X[1]**2) )*X[0]\n",
        "    return dX;"
      ],
      "metadata": {
        "id": "129Ncd7kMh6i"
      },
      "execution_count": 4,
      "outputs": []
    },
    {
      "cell_type": "markdown",
      "source": [
        "To solve these equations we first set up an ode solver using scipy, which for a rising plume takes as initial conditions\n",
        "\\begin{align*}\n",
        "Q(z=0) &= Q_0, \\\\\n",
        "F(z=0) &= P_{F|Q}(f|q=Q_0,z=0) = \\mathcal{N}(\\mu=F_0,\\sigma^2=0.1\\mu)\n",
        "\\end{align*}\n",
        "where the buoyancy flux is drawn from a normal distribution centered around $F_0$ with a variance that is 10% of the mean. The equations are then solved from $z=0 \\to 1$ until $F=0$ at which point the integration is terminated. This corresponds to the plume attaining its neutrally buoyant height. For a descending plume we specifiy the above conditions at $z=1$ and integrate from $z=1 \\to 0$ until $F=0$. \\\\\n",
        "\n",
        "As $F(z=0,1)$ is given by a distribution, we make use of a Monte-Carlo approach in order to obtain the average solution. This consists of running whereby a large ensemble of initial conditions and then averaging over the ensemble of their solutions."
      ],
      "metadata": {
        "id": "WDDRTLCxKawr"
      }
    },
    {
      "cell_type": "code",
      "source": [
        "def Plot_F_and_Q(f,q,label_f='$F(z)$',label_q='$Q(z)$'):\n",
        "\n",
        "  fig, (ax1, ax2) = plt.subplots(1, 2)\n",
        "\n",
        "  ax1.plot(z[1:-1], f[1:-1], 'b')\n",
        "  ax1.set_xlabel(r'$z$')\n",
        "  ax1.set_ylabel(label_f)\n",
        "  plt.grid()\n",
        "\n",
        "  ax2.plot(z[1:-1], q[1:-1], 'r')\n",
        "  ax2.set_xlabel(r'$z$')\n",
        "  ax2.set_ylabel(label_q)\n",
        "  plt.grid()\n",
        "\n",
        "  plt.tight_layout()\n",
        "  plt.show()\n",
        "\n",
        "  return None;\n",
        "\n",
        "def N(μ=0,σ=.1,samples = 10**2):\n",
        "\n",
        "  \"\"\"\n",
        "  Generate N_samples from a Normal distribution\n",
        "\n",
        "  N(μ,σ2)\n",
        "\n",
        "  of mean μ and standard deviation σ.\n",
        "\n",
        "  \"\"\"\n",
        "\n",
        "  return np.random.default_rng().normal(loc=μ,scale=σ,size=samples)\n",
        "\n",
        "def Plume_Solve(F0,dbdz):\n",
        "\n",
        "    def event(t,y,*args): return y[0];\n",
        "    event.terminal = True;\n",
        "    event.positive = 0\n",
        "\n",
        "    if F0 < 0:\n",
        "      plume_type = \"Sink\"\n",
        "    elif F0 >0:\n",
        "      plume_type = \"Rise\"\n",
        "\n",
        "    # Solver\n",
        "    sol  = solve_ivp(fun=plume_eqns,t_span=[z[0],z[-1]], y0=[abs(F0),ε], t_eval=z,args=(z,dbdz,plume_type),events=event)\n",
        "\n",
        "    F = 0.*z;\n",
        "    Q = 0.*z;\n",
        "    if F0 > 0.:\n",
        "      F[0:len(sol.y[0])] = sol.y[0]\n",
        "      Q[0:len(sol.y[1])] = sol.y[1]\n",
        "    elif F0 < 0.:\n",
        "      F[Npts-len(sol.y[0]):] =     sol.y[0][::-1]\n",
        "      Q[Npts-len(sol.y[1]):] = -1.*sol.y[1][::-1]\n",
        "\n",
        "    return F,Q\n",
        "\n",
        "def Plume_Solve_Distribution(F0,Nsq,samples = 10**2):\n",
        "\n",
        "  # Get the samples\n",
        "  std_dev = (abs(F0)/10.) # 10% of the mean\n",
        "  μ       = F0\n",
        "  F_0     = N(μ=μ,σ=std_dev,samples=samples)\n",
        "\n",
        "  # print('Checking distribution mu,std_dev=',abs(μ - np.mean(F_0)),abs(std_dev - np.std(F_0) ))\n",
        "  # plt.hist(F_0, bins=30, density=True)\n",
        "  # plt.show()\n",
        "\n",
        "  # Containers for the solution\n",
        "  Q = 0*z\n",
        "  F = 0*z\n",
        "\n",
        "  for f_0 in F_0:\n",
        "    Fi,Qi  = Plume_Solve(f_0,Nsq)\n",
        "    F+=Fi; Q+=Qi\n",
        "\n",
        "  F /=samples\n",
        "  Q /=samples\n",
        "\n",
        "  return F,Q"
      ],
      "metadata": {
        "id": "19QylJfXYGuw"
      },
      "execution_count": 5,
      "outputs": []
    },
    {
      "cell_type": "markdown",
      "source": [
        "Generate rising and descending plumes"
      ],
      "metadata": {
        "id": "NRqDDZogAGjn"
      }
    },
    {
      "cell_type": "code",
      "source": [
        "# Initial conditions\n",
        "Nsq    = 1*(z/z)\n",
        "Plumes = {'F1':.1,'F2':-.1}\n",
        "Plumes = {'F1':.07,'F2':-.1,'F3':0.03}\n",
        "\n",
        "Q = 0*z\n",
        "F = 0*z\n",
        "for F_key,F_value in Plumes.items():\n",
        "\n",
        "  print(F_key,F_value)\n",
        "  Fi,Qi  = Plume_Solve(F_value,Nsq)\n",
        "  Plot_F_and_Q(Fi,Qi)\n",
        "  F+=Fi; Q+=Qi\n",
        "\n",
        "Plot_F_and_Q(F,Q)"
      ],
      "metadata": {
        "id": "mAMPSN9Gi33Y"
      },
      "execution_count": null,
      "outputs": []
    },
    {
      "cell_type": "markdown",
      "source": [
        "We now repeat this process except for initial conditions drawn from a normal distribution of mean $F_i$ and standard deviation 10% of the mean."
      ],
      "metadata": {
        "id": "4DbTYEgWG3A9"
      }
    },
    {
      "cell_type": "code",
      "source": [
        "# Initial conditions\n",
        "Nsq    = 1*(z/z)\n",
        "Plumes = {'F1':.1,'F2':-.1}\n",
        "\n",
        "Q = 0*z\n",
        "F = 0*z\n",
        "for F_key,F_value in Plumes.items():\n",
        "\n",
        "  print(F_key,F_value)\n",
        "  Fi,Qi  = Plume_Solve_Distribution(F_value,Nsq,samples = 10**3)\n",
        "  Plot_F_and_Q(Fi,Qi)\n",
        "  F+=Fi; Q+=Qi\n",
        "\n",
        "Plot_F_and_Q(F,Q)"
      ],
      "metadata": {
        "id": "T7fmGu2pHuOk"
      },
      "execution_count": null,
      "outputs": []
    },
    {
      "cell_type": "markdown",
      "source": [
        "Equipped with a means to obtain the velocity field we can now combine this with the 1D advection diffusion equation for buoyancy\n",
        "\\begin{equation*}\n",
        "\\frac{\\partial b}{\\partial t} + \\bar{w} \\frac{\\partial b}{\\partial z} = \\frac{\\partial }{\\partial z} \\Big( \\Gamma \\frac{\\partial b}{\\partial z} \\Big),\n",
        "\\end{equation*}\n",
        "where\n",
        "\\begin{equation*}\n",
        "\\bar{w}(z) = -\\frac{1}{A} \\sum_i Q_i(z),\n",
        "\\end{equation*}\n",
        "and $\\Gamma$ is a turbulent diffusion. To do we solve the advection diffusion equation for buoyancy $b(z,t)$ as below, where $\\Gamma$ is taken as a constant."
      ],
      "metadata": {
        "id": "T7q8x4OOGkev"
      }
    },
    {
      "cell_type": "code",
      "source": [
        "def step_buoyancy(w,b,Γ=.1,Δt=1e-03,A_inv = None, B = None):\n",
        "\n",
        "    \"\"\"\n",
        "    Step forward using one time-step\n",
        "\n",
        "    if Γ > 0:\n",
        "    Crank-Nicolson\n",
        "    elif Γ == 0\n",
        "    Euler-Explicit\n",
        "\n",
        "    returns b(z,t_n+1)\n",
        "    \"\"\"\n",
        "\n",
        "    if Γ > 0:\n",
        "\n",
        "      if (A_inv is None) and (B is None):\n",
        "        A = (I/Δt - .5*Γ*L)\n",
        "        B = (I/Δt + .5*Γ*L)\n",
        "        return np.linalg.solve(A,B@b - w*(D@b) )\n",
        "      else:\n",
        "        return A_inv@( B@b - w*(D@b) )\n",
        "\n",
        "    elif Γ == 0:\n",
        "\n",
        "      #Courant number |c*dt/dx| < 1\n",
        "      c = np.max(abs(w))\n",
        "      while  (c*Δt)/dz > 1.:\n",
        "        dt *=0.5\n",
        "\n",
        "      return b - Δt*w*(D@b)"
      ],
      "metadata": {
        "id": "l05gHEkNNSKx"
      },
      "execution_count": 11,
      "outputs": []
    },
    {
      "cell_type": "markdown",
      "source": [
        "With a solver developed for the plume equations and for the 1D buoyancy equations we now link these routines together to establish the background stratification profile for a given set of plume sources and sinks. We consider the case of two opposing plumes of equal strength. \\\\\n",
        "\n",
        "We first specify initial conditions for the rising plume\n",
        "\\begin{align}\n",
        "  F_1(z=0) &= .1, \\\\\n",
        "  Q_1(z=0) &= 0, \\\\\n",
        "\\end{align}\n",
        "the sinking plume\n",
        "\\begin{align}\n",
        "  F_2(z=1) &=-.1, \\\\\n",
        "  Q_2(z=1) &= 0, \\\\\n",
        "\\end{align}\n",
        "and the initial stratification\n",
        "\\begin{equation}\n",
        "  db/dz(z,t_0=0) = 1.\n",
        "\\end{equation}\n",
        "Using these boundary conditions we then:\n",
        "- Solve the plume equations using $db/dz(z,t_n)$ for each of the plumes to obtain $Q_i^n$\n",
        "- Compute $\\bar{w}(z,t_n)$ from the sum of the plumes's volume fluxes $Q_i^n$\n",
        "- Timestep the 1D buoyancy equation forward from $t_n \\to t_n + \\Delta t$ to update $db/dz(z,t_n)$ \\\\\n",
        "\n",
        "This process is repeated until the residual error\n",
        "\\begin{equation}\n",
        "  || db^{n+1}/dz - db^{n}/dz ||_2/||db^{n}/dz || < \\text{tol},\n",
        "\\end{equation}\n",
        "falls below a user prescribed tolerance."
      ],
      "metadata": {
        "id": "niUcUBmbLztW"
      }
    },
    {
      "cell_type": "code",
      "source": [
        "def Strat_solve(b,Plumes,Γ=1e-02,Δt=1e-03,Area=1.0,Iterations=10**4):\n",
        "\n",
        "  A_inv = np.linalg.inv(I/Δt - .5*Γ*L)\n",
        "  B     = (I/Δt + .5*Γ*L)\n",
        "\n",
        "  Error = [1.0];\n",
        "  iter  = 0;\n",
        "  Nsq   = D@b;\n",
        "\n",
        "  while (iter < Iterations):\n",
        "\n",
        "    # (1) solve plume equations\n",
        "    w = 0*z\n",
        "    for F_key,F_value in Plumes.items():\n",
        "\n",
        "      # Fixed buoyancy flux\n",
        "      Q_i= Plume_Solve(F_value,Nsq)[1]\n",
        "\n",
        "      # Distribution of buoyancy flux- Monte-Carlo\n",
        "      #Q_i= Plume_Solve_Distribution(F_value,Nsq,samples = 10)[1]\n",
        "\n",
        "      # Distribution of buoyancy flux - Fokker-Planck\n",
        "      ##Q_i= Plume_Solve_Distribution(F_value,Nsq,samples = 10**2)[1]\n",
        "\n",
        "      w -= Q_i/Area\n",
        "\n",
        "    # (2) step db/dt forward\n",
        "    b = step_buoyancy(w,b,Γ=Γ,Δt=Δt,A_inv=A_inv,B=B)\n",
        "\n",
        "    # (3) update N^2 & check converged\n",
        "    Error.append(  np.linalg.norm(Nsq - D@b,2)/np.linalg.norm(Nsq,2) )\n",
        "    Nsq   = D@b;\n",
        "    iter += 1.\n",
        "\n",
        "    if iter%(Iterations%10) ==0:\n",
        "      print('Iteration i = %d, Residual error r_i = %e \\n'%(iter,Error[-1]))\n",
        "      Plot_F_and_Q(w,b,label_f='w(z)',label_q='b(z)')\n",
        "\n",
        "  return Error,w,b;"
      ],
      "metadata": {
        "id": "umQ0KGtqHNaF"
      },
      "execution_count": 12,
      "outputs": []
    },
    {
      "cell_type": "code",
      "source": [
        "# Sources and IC\n",
        "b      = 1*z;\n",
        "Plumes = {'F1':.1,'F2':-.1}\n",
        "\n",
        "# Solve\n",
        "Error,w,b = Strat_solve(b,Plumes)\n",
        "\n",
        "plt.ylabel(r'$|N^2_{i+1} - N^2_i|_2/|N^2_i|_2$')\n",
        "plt.xlabel(r'Iteration $i$')\n",
        "plt.semilogy(Error)\n",
        "plt.show()\n",
        "\n",
        "Plot_F_and_Q(w  ,b  ,label_f='w(z)'    ,label_q='b(z)'  )\n",
        "Plot_F_and_Q(D@w,Nsq,label_f='dw(z)/dz',label_q='N^2(z)')"
      ],
      "metadata": {
        "id": "2sO3zXsSkBIq"
      },
      "execution_count": null,
      "outputs": []
    }
  ]
}